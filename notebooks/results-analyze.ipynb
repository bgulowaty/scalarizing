{
 "cells": [
  {
   "cell_type": "markdown",
   "id": "028a47a7-1406-4d20-9744-e68fd3c52043",
   "metadata": {},
   "source": [
    "# Scalarizing results analysis"
   ]
  },
  {
   "cell_type": "code",
   "execution_count": 1,
   "id": "bb8d4387-3421-4806-a8a7-d0424fec26bc",
   "metadata": {},
   "outputs": [],
   "source": [
    "import mlflow\n",
    "import pandas as pd\n",
    "import numpy as np"
   ]
  },
  {
   "cell_type": "code",
   "execution_count": 133,
   "id": "e376f173-a9d2-4950-a2ae-5ccb829b73d1",
   "metadata": {},
   "outputs": [],
   "source": [
    "pd.set_option('display.max_rows', 150)"
   ]
  },
  {
   "cell_type": "code",
   "execution_count": 2,
   "id": "87f9d18b-e8ea-4a15-8a0e-da2c4be1486d",
   "metadata": {},
   "outputs": [],
   "source": [
    "SCALARIZING_EXPERIMENT_ID = '1'\n",
    "BASELINE_EXPERIMENT_ID = '2'"
   ]
  },
  {
   "cell_type": "markdown",
   "id": "1e02b096-1320-4d99-b0bf-62df02c7a9f3",
   "metadata": {},
   "source": [
    "## Load baseline"
   ]
  },
  {
   "cell_type": "code",
   "execution_count": 180,
   "id": "889f0bc0-80b6-4e97-9579-4bea703882e8",
   "metadata": {},
   "outputs": [],
   "source": [
    "baseline_df = mlflow.search_runs(BASELINE_EXPERIMENT_ID, output_format='pandas')"
   ]
  },
  {
   "cell_type": "code",
   "execution_count": 181,
   "id": "b4d7ebdd-62c8-44ae-8e1f-3ea7b8b8201a",
   "metadata": {},
   "outputs": [],
   "source": [
    "baseline_df = baseline_df.query(\"not `metrics.kne_test_acc`.isna()\")\\\n",
    "    .assign(dataset=lambda df: df['params.train_path'].str.split('/').str.get(-1).str.split('-train').str.get(0))"
   ]
  },
  {
   "cell_type": "markdown",
   "id": "38d5f34b-6276-4e8f-9af0-b472b04d77b9",
   "metadata": {},
   "source": [
    "## Load scalarizing"
   ]
  },
  {
   "cell_type": "code",
   "execution_count": 220,
   "id": "ff8f052c-17b8-4e76-89a8-31e2d4ac8ae0",
   "metadata": {},
   "outputs": [
    {
     "data": {
      "text/plain": [
       "5     4874\n",
       "10    4863\n",
       "20    3875\n",
       "Name: params.ensemble_size, dtype: int64"
      ]
     },
     "execution_count": 220,
     "metadata": {},
     "output_type": "execute_result"
    }
   ],
   "source": [
    "scalarizing_df['params.ensemble_size'].value_counts()"
   ]
  },
  {
   "cell_type": "code",
   "execution_count": 170,
   "id": "66f3edaf-a01b-410b-8973-8b360a44b46b",
   "metadata": {},
   "outputs": [],
   "source": [
    "scalarizing_df = mlflow.search_runs(SCALARIZING_EXPERIMENT_ID, output_format='pandas')"
   ]
  },
  {
   "cell_type": "code",
   "execution_count": 179,
   "id": "d93b294e-4fdb-480c-be26-2916b8f72bd4",
   "metadata": {},
   "outputs": [],
   "source": [
    "scalarizing_df = scalarizing_df.query(\"status == 'FINISHED'\")\\\n",
    "    .dropna(axis=1, how='all')\\\n",
    "    .drop('params.train_and_test_paths', axis=1)\\\n",
    "    .assign(**{\"metrics.accuracy_ensemble_selected\": lambda df: df['metrics.accuracy_ensemble_selected'].fillna(0.0)})\\\n",
    "    .dropna()\\\n",
    "    .assign(dataset=lambda row: row['params.dataset'].str.split('-').str[0])"
   ]
  },
  {
   "cell_type": "markdown",
   "id": "43dca04f-9a2c-4ee8-85a1-f63e7ccb682f",
   "metadata": {},
   "source": [
    "## Join"
   ]
  },
  {
   "cell_type": "code",
   "execution_count": 182,
   "id": "24d7edca-ae96-4009-8050-b652b30be173",
   "metadata": {},
   "outputs": [],
   "source": [
    "analysis_df = scalarizing_df.merge(baseline_df, left_on=['dataset', 'params.bagging_size'], right_on=['dataset', 'params.bagging_size'], how='inner', suffixes=(\"\",\"_base\"))"
   ]
  },
  {
   "cell_type": "code",
   "execution_count": 200,
   "id": "e6c90900-4835-4c58-b572-deb21c6c2a14",
   "metadata": {
    "scrolled": true,
    "tags": []
   },
   "outputs": [],
   "source": [
    "mean_accuracies = analysis_df.groupby(['params.scoring_method', 'dataset'])\\\n",
    "    [['metrics.selected_ensemble_accuracy', 'metrics.kne_test_acc', 'metrics.bagging_test_acc', 'metrics.ola_test_acc', 'metrics.mcb_test_acc', 'metrics.desp_test_acc', 'metrics.knorau_test_acc']]\\\n",
    "    .mean()\\\n",
    "    .rename(lambda name: name.replace('metrics.', ''), axis=1)\\\n",
    "    .assign(best=lambda row: row.max(axis=1))\\\n",
    "    .assign(is_method_best=lambda row: row['selected_ensemble_accuracy'] == row['best'])\\\n",
    "    .assign(difference_method_to_best=lambda row: row['selected_ensemble_accuracy'] - row['best'])"
   ]
  },
  {
   "cell_type": "code",
   "execution_count": 214,
   "id": "f36538ba-a689-4990-b255-cee63d6e0bd4",
   "metadata": {},
   "outputs": [],
   "source": [
    "mean_accuracies.to_csv('results.csv')"
   ]
  },
  {
   "cell_type": "code",
   "execution_count": 196,
   "id": "2a78ee6a-319b-4e9b-8c2b-be3e5611e45b",
   "metadata": {},
   "outputs": [],
   "source": [
    "def count_better_than(series):\n",
    "    size = len(series)\n",
    "    new_values = series.copy(deep=True)\n",
    "    \n",
    "    for idx, value in enumerate(series):\n",
    "        values_without_current = series[~series.index.isin([idx])]\n",
    "        \n",
    "        rank = (values_without_current > value).sum()\n",
    "        new_values[idx] = rank\n",
    "        \n",
    "    \n",
    "    return new_values"
   ]
  },
  {
   "cell_type": "code",
   "execution_count": 195,
   "id": "2dea7538-45d2-476c-8e42-78236fe8ad07",
   "metadata": {},
   "outputs": [],
   "source": [
    "datasets_ranking = analysis_df.groupby(['params.scoring_method', 'dataset'])\\\n",
    "    [['metrics.selected_ensemble_accuracy', 'metrics.kne_test_acc', 'metrics.bagging_test_acc', 'metrics.ola_test_acc', 'metrics.mcb_test_acc', 'metrics.desp_test_acc', 'metrics.knorau_test_acc']]\\\n",
    "    .mean()\\\n",
    "    .rename(lambda name: name.replace('metrics.', ''), axis=1)\\\n",
    "    .apply(count_better_than, axis=1)\\\n",
    "    .assign(method_best=lambda df: df['selected_ensemble_accuracy'] == 0)"
   ]
  },
  {
   "cell_type": "code",
   "execution_count": 197,
   "id": "50171398-09d8-4af6-9281-5599a7321532",
   "metadata": {},
   "outputs": [
    {
     "data": {
      "text/plain": [
       "params.scoring_method\n",
       "diversity    3.125\n",
       "normal       3.125\n",
       "Name: selected_ensemble_accuracy, dtype: float64"
      ]
     },
     "execution_count": 197,
     "metadata": {},
     "output_type": "execute_result"
    }
   ],
   "source": [
    "datasets_ranking['selected_ensemble_accuracy'].groupby('params.scoring_method').mean()"
   ]
  },
  {
   "cell_type": "code",
   "execution_count": 203,
   "id": "e38619bb-e4d2-4bb9-bd92-4a1ce78e33f3",
   "metadata": {},
   "outputs": [
    {
     "data": {
      "text/plain": [
       "<pandas.core.strings.accessor.StringMethods at 0x2b20871dbf10>"
      ]
     },
     "execution_count": 203,
     "metadata": {},
     "output_type": "execute_result"
    }
   ],
   "source": [
    "pd.Series(['a', 'b', 'c']).str.join"
   ]
  },
  {
   "cell_type": "code",
   "execution_count": 215,
   "id": "a99b9e73-8b5f-4774-b8db-b132fde4b553",
   "metadata": {},
   "outputs": [],
   "source": [
    "datasets_ranking.to_csv('rankings.csv')"
   ]
  },
  {
   "cell_type": "code",
   "execution_count": null,
   "id": "e7613c18-eed2-43d5-8c0d-a5c341d95029",
   "metadata": {},
   "outputs": [],
   "source": []
  },
  {
   "cell_type": "code",
   "execution_count": null,
   "id": "0cc679a1-d9c3-4893-8468-ed7db5c3b012",
   "metadata": {},
   "outputs": [],
   "source": [
    "for_analysis_df = experiments_for_analysis_df.groupby(['params.scoring_method', 'dataset'])\\\n",
    "    .mean()\\\n",
    "    .assign(is_method_better=lambda row: row['metrics.selected_ensemble_accuracy'] > row['metrics.accuracy_selection_accuracy'])\\\n",
    "    .assign(is_method_equal=lambda row: row['metrics.selected_ensemble_accuracy'] == row['metrics.accuracy_selection_accuracy'])\\\n",
    "    .assign(difference=lambda row: row['metrics.selected_ensemble_accuracy'] - row['metrics.accuracy_selection_accuracy'])\n",
    "    \n",
    "    "
   ]
  },
  {
   "cell_type": "code",
   "execution_count": null,
   "id": "528f98f1-60af-40ee-a913-69121b1a9025",
   "metadata": {},
   "outputs": [],
   "source": [
    "for_analysis_df['is_method_better'].groupby(level=0).count()"
   ]
  },
  {
   "cell_type": "code",
   "execution_count": null,
   "id": "c64f306e-913a-460a-b3c9-4bb925f0129e",
   "metadata": {},
   "outputs": [],
   "source": [
    "for_analysis_df['difference']"
   ]
  },
  {
   "cell_type": "code",
   "execution_count": null,
   "id": "69463017-be43-4169-ad65-1e0c42284ba7",
   "metadata": {},
   "outputs": [],
   "source": []
  },
  {
   "cell_type": "code",
   "execution_count": null,
   "id": "8f9a8ae2-2688-474b-a23a-403d31c28aeb",
   "metadata": {},
   "outputs": [],
   "source": [
    "experiments_for_analysis_df\\\n",
    " .assign(is_method_better=lambda row: row['metrics.selected_ensemble_accuracy'] > row['metrics.accuracy_selection_accuracy'])\\\n",
    "    .assign(is_method_equal=lambda row: row['metrics.selected_ensemble_accuracy'] == row['metrics.accuracy_selection_accuracy'])\\\n",
    "    .assign(difference=lambda row: row['metrics.selected_ensemble_accuracy'] - row['metrics.accuracy_selection_accuracy'])\\\n",
    "    ['is_method_better'].value_counts()"
   ]
  }
 ],
 "metadata": {
  "kernelspec": {
   "display_name": "Python 3 (ipykernel)",
   "language": "python",
   "name": "python3"
  },
  "language_info": {
   "codemirror_mode": {
    "name": "ipython",
    "version": 3
   },
   "file_extension": ".py",
   "mimetype": "text/x-python",
   "name": "python",
   "nbconvert_exporter": "python",
   "pygments_lexer": "ipython3",
   "version": "3.10.6"
  }
 },
 "nbformat": 4,
 "nbformat_minor": 5
}
