{
 "cells": [
  {
   "cell_type": "code",
   "execution_count": 1,
   "id": "60ca12bb-622f-422b-a6bf-be9136104869",
   "metadata": {
    "execution": {
     "iopub.execute_input": "2022-12-04T13:43:23.031962Z",
     "iopub.status.busy": "2022-12-04T13:43:23.031477Z",
     "iopub.status.idle": "2022-12-04T13:43:23.037535Z",
     "shell.execute_reply": "2022-12-04T13:43:23.037104Z"
    },
    "papermill": {
     "duration": 0.011459,
     "end_time": "2022-12-04T13:43:23.038640",
     "exception": false,
     "start_time": "2022-12-04T13:43:23.027181",
     "status": "completed"
    },
    "tags": [
     "parameters"
    ]
   },
   "outputs": [],
   "source": [
    "EXPERIMENT_INSTANCE_ID = \"a636350c80144b038a0e805d8ba912a2\"\n",
    "N_CPUS = 8\n",
    "TRACKING_URL = \"file:///home/bogul/scalarizing/notebooks/mlruns\"\n"
   ]
  },
  {
   "cell_type": "code",
   "execution_count": 2,
   "id": "c60ba1d7",
   "metadata": {
    "execution": {
     "iopub.execute_input": "2022-12-04T13:43:23.045674Z",
     "iopub.status.busy": "2022-12-04T13:43:23.045279Z",
     "iopub.status.idle": "2022-12-04T13:43:23.047606Z",
     "shell.execute_reply": "2022-12-04T13:43:23.047140Z"
    },
    "papermill": {
     "duration": 0.006837,
     "end_time": "2022-12-04T13:43:23.048622",
     "exception": false,
     "start_time": "2022-12-04T13:43:23.041785",
     "status": "completed"
    },
    "tags": [
     "injected-parameters"
    ]
   },
   "outputs": [],
   "source": [
    "# Parameters\n",
    "EXPERIMENT_INSTANCE_ID = \"a636350c80144b038a0e805d8ba912a2\"\n"
   ]
  },
  {
   "cell_type": "code",
   "execution_count": 3,
   "id": "9775a3c4-36dc-49dd-9c1d-eb949c0c0d14",
   "metadata": {
    "execution": {
     "iopub.execute_input": "2022-12-04T13:43:23.055423Z",
     "iopub.status.busy": "2022-12-04T13:43:23.055038Z",
     "iopub.status.idle": "2022-12-04T13:43:27.280158Z",
     "shell.execute_reply": "2022-12-04T13:43:27.279613Z"
    },
    "papermill": {
     "duration": 4.229814,
     "end_time": "2022-12-04T13:43:27.281495",
     "exception": false,
     "start_time": "2022-12-04T13:43:23.051681",
     "status": "completed"
    },
    "tags": []
   },
   "outputs": [],
   "source": [
    "import mlflow\n",
    "import pandas as pd\n",
    "from sklearn.ensemble import BaggingClassifier\n",
    "from sklearn.linear_model import Perceptron\n",
    "from box import Box\n",
    "from deslib import static\n",
    "from deslib import des\n",
    "from copy import deepcopy\n",
    "from sklearn.metrics import accuracy_score"
   ]
  },
  {
   "cell_type": "code",
   "execution_count": 4,
   "id": "41241089-62b6-4fdf-9df1-c9741f0f06ee",
   "metadata": {
    "execution": {
     "iopub.execute_input": "2022-12-04T13:43:27.288617Z",
     "iopub.status.busy": "2022-12-04T13:43:27.288294Z",
     "iopub.status.idle": "2022-12-04T13:43:27.291008Z",
     "shell.execute_reply": "2022-12-04T13:43:27.290614Z"
    },
    "papermill": {
     "duration": 0.007171,
     "end_time": "2022-12-04T13:43:27.291994",
     "exception": false,
     "start_time": "2022-12-04T13:43:27.284823",
     "status": "completed"
    },
    "tags": []
   },
   "outputs": [],
   "source": [
    "mlflow.set_tracking_uri(TRACKING_URL)\n"
   ]
  },
  {
   "cell_type": "code",
   "execution_count": 5,
   "id": "db84dd7e-8d6c-4dcf-9ec8-6304f6fafcca",
   "metadata": {
    "execution": {
     "iopub.execute_input": "2022-12-04T13:43:27.298401Z",
     "iopub.status.busy": "2022-12-04T13:43:27.298076Z",
     "iopub.status.idle": "2022-12-04T13:43:27.471559Z",
     "shell.execute_reply": "2022-12-04T13:43:27.471033Z"
    },
    "papermill": {
     "duration": 0.177973,
     "end_time": "2022-12-04T13:43:27.472825",
     "exception": false,
     "start_time": "2022-12-04T13:43:27.294852",
     "status": "completed"
    },
    "tags": []
   },
   "outputs": [],
   "source": [
    "run = mlflow.start_run(run_id=EXPERIMENT_INSTANCE_ID)"
   ]
  },
  {
   "cell_type": "code",
   "execution_count": 6,
   "id": "c052a075-4379-4bd4-ae66-eeb3f767d98d",
   "metadata": {
    "execution": {
     "iopub.execute_input": "2022-12-04T13:43:27.479535Z",
     "iopub.status.busy": "2022-12-04T13:43:27.479295Z",
     "iopub.status.idle": "2022-12-04T13:43:27.481958Z",
     "shell.execute_reply": "2022-12-04T13:43:27.481545Z"
    },
    "papermill": {
     "duration": 0.007129,
     "end_time": "2022-12-04T13:43:27.482954",
     "exception": false,
     "start_time": "2022-12-04T13:43:27.475825",
     "status": "completed"
    },
    "tags": []
   },
   "outputs": [],
   "source": [
    "params = Box(run.data.params,  box_recast={\n",
    "                'bagging_size': int\n",
    "            })"
   ]
  },
  {
   "cell_type": "code",
   "execution_count": 7,
   "id": "2cefed91-03e5-4dd7-a83b-ea82d9ca4a91",
   "metadata": {
    "execution": {
     "iopub.execute_input": "2022-12-04T13:43:27.489855Z",
     "iopub.status.busy": "2022-12-04T13:43:27.489630Z",
     "iopub.status.idle": "2022-12-04T13:43:27.492100Z",
     "shell.execute_reply": "2022-12-04T13:43:27.491698Z"
    },
    "papermill": {
     "duration": 0.006949,
     "end_time": "2022-12-04T13:43:27.493070",
     "exception": false,
     "start_time": "2022-12-04T13:43:27.486121",
     "status": "completed"
    },
    "tags": []
   },
   "outputs": [],
   "source": [
    "params.train_path = f\"/home/bogul/scalarizing/notebooks/{params.train_path}\""
   ]
  },
  {
   "cell_type": "code",
   "execution_count": 8,
   "id": "5d16b75b-5246-477c-9035-9ff684fa2044",
   "metadata": {
    "execution": {
     "iopub.execute_input": "2022-12-04T13:43:27.500898Z",
     "iopub.status.busy": "2022-12-04T13:43:27.500675Z",
     "iopub.status.idle": "2022-12-04T13:43:27.508004Z",
     "shell.execute_reply": "2022-12-04T13:43:27.507592Z"
    },
    "papermill": {
     "duration": 0.012051,
     "end_time": "2022-12-04T13:43:27.509063",
     "exception": false,
     "start_time": "2022-12-04T13:43:27.497012",
     "status": "completed"
    },
    "tags": []
   },
   "outputs": [
    {
     "data": {
      "text/plain": [
       "<Box: {'bagging_size': 500, 'train_path': '/home/bogul/scalarizing/notebooks/../../datasets/processed/texture-train-2-s2.csv'}>"
      ]
     },
     "execution_count": 8,
     "metadata": {},
     "output_type": "execute_result"
    }
   ],
   "source": [
    "params"
   ]
  },
  {
   "cell_type": "code",
   "execution_count": 9,
   "id": "97b36359-7c10-4dce-a709-9044a473ccd8",
   "metadata": {
    "execution": {
     "iopub.execute_input": "2022-12-04T13:43:27.516379Z",
     "iopub.status.busy": "2022-12-04T13:43:27.515938Z",
     "iopub.status.idle": "2022-12-04T13:43:27.518908Z",
     "shell.execute_reply": "2022-12-04T13:43:27.518472Z"
    },
    "papermill": {
     "duration": 0.007696,
     "end_time": "2022-12-04T13:43:27.519975",
     "exception": false,
     "start_time": "2022-12-04T13:43:27.512279",
     "status": "completed"
    },
    "tags": []
   },
   "outputs": [],
   "source": [
    "def read_dataset(path):\n",
    "    data = pd.read_csv(path)\n",
    "    x = data.drop('TARGET', axis=1).values\n",
    "    y = data['TARGET'].values\n",
    "\n",
    "    return {\n",
    "        \"x\": x,\n",
    "        \"y\": y\n",
    "    }"
   ]
  },
  {
   "cell_type": "code",
   "execution_count": 10,
   "id": "bb57d051-2d52-4674-bab5-c4bcd5b9a53d",
   "metadata": {
    "execution": {
     "iopub.execute_input": "2022-12-04T13:43:27.527439Z",
     "iopub.status.busy": "2022-12-04T13:43:27.527091Z",
     "iopub.status.idle": "2022-12-04T13:43:27.529590Z",
     "shell.execute_reply": "2022-12-04T13:43:27.529182Z"
    },
    "papermill": {
     "duration": 0.007384,
     "end_time": "2022-12-04T13:43:27.530602",
     "exception": false,
     "start_time": "2022-12-04T13:43:27.523218",
     "status": "completed"
    },
    "tags": []
   },
   "outputs": [],
   "source": [
    "train_path = params.train_path\n",
    "test_path = train_path.replace('train','test')"
   ]
  },
  {
   "cell_type": "code",
   "execution_count": 11,
   "id": "4587188a-3031-4f06-8e0c-a5d93d2524f1",
   "metadata": {
    "execution": {
     "iopub.execute_input": "2022-12-04T13:43:27.537563Z",
     "iopub.status.busy": "2022-12-04T13:43:27.537266Z",
     "iopub.status.idle": "2022-12-04T13:43:27.645705Z",
     "shell.execute_reply": "2022-12-04T13:43:27.645206Z"
    },
    "papermill": {
     "duration": 0.113245,
     "end_time": "2022-12-04T13:43:27.646875",
     "exception": false,
     "start_time": "2022-12-04T13:43:27.533630",
     "status": "completed"
    },
    "tags": []
   },
   "outputs": [],
   "source": [
    "dataset = Box({\n",
    "        'train': read_dataset(train_path),\n",
    "        'test': read_dataset(test_path),\n",
    "        'name': train_path.split(\"/\")[-1].replace(\"-train\", '')\n",
    "    })\n"
   ]
  },
  {
   "cell_type": "markdown",
   "id": "e353919f-bf88-4f42-9a9c-1746c1bc287d",
   "metadata": {
    "papermill": {
     "duration": 0.003127,
     "end_time": "2022-12-04T13:43:27.653652",
     "exception": false,
     "start_time": "2022-12-04T13:43:27.650525",
     "status": "completed"
    },
    "tags": []
   },
   "source": [
    "# Experiments"
   ]
  },
  {
   "cell_type": "code",
   "execution_count": 12,
   "id": "3042bdea-18fc-4372-8931-261624cd09bf",
   "metadata": {
    "execution": {
     "iopub.execute_input": "2022-12-04T13:43:27.660864Z",
     "iopub.status.busy": "2022-12-04T13:43:27.660447Z",
     "iopub.status.idle": "2022-12-04T13:43:27.664390Z",
     "shell.execute_reply": "2022-12-04T13:43:27.663974Z"
    },
    "papermill": {
     "duration": 0.00867,
     "end_time": "2022-12-04T13:43:27.665370",
     "exception": false,
     "start_time": "2022-12-04T13:43:27.656700",
     "status": "completed"
    },
    "tags": []
   },
   "outputs": [],
   "source": [
    "class predict_wrapper(object):\n",
    "    def __init__(self, predict_func, labels):\n",
    "        self.predict_func = predict_func\n",
    "        self.labels = labels\n",
    "\n",
    "    def __call__(self, *args, **kwargs):\n",
    "        return self.labels[self.predict_func(*args, **kwargs)]\n",
    "\n",
    "def raise_not_implemented():\n",
    "    raise NotImplemented(\"Predict proba is not supported\")\n",
    "def extract_classifiers_from_bagging(bagging):\n",
    "\n",
    "    extracted = []\n",
    "    for classifier in bagging.estimators_:\n",
    "        cloned_classifier = deepcopy(classifier)\n",
    "        cloned_classifier.predict = predict_wrapper(cloned_classifier.predict, bagging.classes_)\n",
    "        cloned_classifier.predict_proba = raise_not_implemented\n",
    "\n",
    "        extracted.append(cloned_classifier)\n",
    "\n",
    "    return extracted"
   ]
  },
  {
   "cell_type": "code",
   "execution_count": 13,
   "id": "a0e01747-7b56-48b6-bf10-f90a370ee049",
   "metadata": {
    "execution": {
     "iopub.execute_input": "2022-12-04T13:43:27.672645Z",
     "iopub.status.busy": "2022-12-04T13:43:27.672310Z",
     "iopub.status.idle": "2022-12-04T13:43:47.691794Z",
     "shell.execute_reply": "2022-12-04T13:43:47.691241Z"
    },
    "papermill": {
     "duration": 20.024218,
     "end_time": "2022-12-04T13:43:47.692875",
     "exception": false,
     "start_time": "2022-12-04T13:43:27.668657",
     "status": "completed"
    },
    "tags": []
   },
   "outputs": [
    {
     "data": {
      "text/html": [
       "<style>#sk-container-id-1 {color: black;background-color: white;}#sk-container-id-1 pre{padding: 0;}#sk-container-id-1 div.sk-toggleable {background-color: white;}#sk-container-id-1 label.sk-toggleable__label {cursor: pointer;display: block;width: 100%;margin-bottom: 0;padding: 0.3em;box-sizing: border-box;text-align: center;}#sk-container-id-1 label.sk-toggleable__label-arrow:before {content: \"▸\";float: left;margin-right: 0.25em;color: #696969;}#sk-container-id-1 label.sk-toggleable__label-arrow:hover:before {color: black;}#sk-container-id-1 div.sk-estimator:hover label.sk-toggleable__label-arrow:before {color: black;}#sk-container-id-1 div.sk-toggleable__content {max-height: 0;max-width: 0;overflow: hidden;text-align: left;background-color: #f0f8ff;}#sk-container-id-1 div.sk-toggleable__content pre {margin: 0.2em;color: black;border-radius: 0.25em;background-color: #f0f8ff;}#sk-container-id-1 input.sk-toggleable__control:checked~div.sk-toggleable__content {max-height: 200px;max-width: 100%;overflow: auto;}#sk-container-id-1 input.sk-toggleable__control:checked~label.sk-toggleable__label-arrow:before {content: \"▾\";}#sk-container-id-1 div.sk-estimator input.sk-toggleable__control:checked~label.sk-toggleable__label {background-color: #d4ebff;}#sk-container-id-1 div.sk-label input.sk-toggleable__control:checked~label.sk-toggleable__label {background-color: #d4ebff;}#sk-container-id-1 input.sk-hidden--visually {border: 0;clip: rect(1px 1px 1px 1px);clip: rect(1px, 1px, 1px, 1px);height: 1px;margin: -1px;overflow: hidden;padding: 0;position: absolute;width: 1px;}#sk-container-id-1 div.sk-estimator {font-family: monospace;background-color: #f0f8ff;border: 1px dotted black;border-radius: 0.25em;box-sizing: border-box;margin-bottom: 0.5em;}#sk-container-id-1 div.sk-estimator:hover {background-color: #d4ebff;}#sk-container-id-1 div.sk-parallel-item::after {content: \"\";width: 100%;border-bottom: 1px solid gray;flex-grow: 1;}#sk-container-id-1 div.sk-label:hover label.sk-toggleable__label {background-color: #d4ebff;}#sk-container-id-1 div.sk-serial::before {content: \"\";position: absolute;border-left: 1px solid gray;box-sizing: border-box;top: 0;bottom: 0;left: 50%;z-index: 0;}#sk-container-id-1 div.sk-serial {display: flex;flex-direction: column;align-items: center;background-color: white;padding-right: 0.2em;padding-left: 0.2em;position: relative;}#sk-container-id-1 div.sk-item {position: relative;z-index: 1;}#sk-container-id-1 div.sk-parallel {display: flex;align-items: stretch;justify-content: center;background-color: white;position: relative;}#sk-container-id-1 div.sk-item::before, #sk-container-id-1 div.sk-parallel-item::before {content: \"\";position: absolute;border-left: 1px solid gray;box-sizing: border-box;top: 0;bottom: 0;left: 50%;z-index: -1;}#sk-container-id-1 div.sk-parallel-item {display: flex;flex-direction: column;z-index: 1;position: relative;background-color: white;}#sk-container-id-1 div.sk-parallel-item:first-child::after {align-self: flex-end;width: 50%;}#sk-container-id-1 div.sk-parallel-item:last-child::after {align-self: flex-start;width: 50%;}#sk-container-id-1 div.sk-parallel-item:only-child::after {width: 0;}#sk-container-id-1 div.sk-dashed-wrapped {border: 1px dashed gray;margin: 0 0.4em 0.5em 0.4em;box-sizing: border-box;padding-bottom: 0.4em;background-color: white;}#sk-container-id-1 div.sk-label label {font-family: monospace;font-weight: bold;display: inline-block;line-height: 1.2em;}#sk-container-id-1 div.sk-label-container {text-align: center;}#sk-container-id-1 div.sk-container {/* jupyter's `normalize.less` sets `[hidden] { display: none; }` but bootstrap.min.css set `[hidden] { display: none !important; }` so we also need the `!important` here to be able to override the default hidden behavior on the sphinx rendered scikit-learn.org. See: https://github.com/scikit-learn/scikit-learn/issues/21755 */display: inline-block !important;position: relative;}#sk-container-id-1 div.sk-text-repr-fallback {display: none;}</style><div id=\"sk-container-id-1\" class=\"sk-top-container\"><div class=\"sk-text-repr-fallback\"><pre>BaggingClassifier(base_estimator=Perceptron(), max_samples=0.3,\n",
       "                  n_estimators=500, random_state=42)</pre><b>In a Jupyter environment, please rerun this cell to show the HTML representation or trust the notebook. <br />On GitHub, the HTML representation is unable to render, please try loading this page with nbviewer.org.</b></div><div class=\"sk-container\" hidden><div class=\"sk-item sk-dashed-wrapped\"><div class=\"sk-label-container\"><div class=\"sk-label sk-toggleable\"><input class=\"sk-toggleable__control sk-hidden--visually\" id=\"sk-estimator-id-1\" type=\"checkbox\" ><label for=\"sk-estimator-id-1\" class=\"sk-toggleable__label sk-toggleable__label-arrow\">BaggingClassifier</label><div class=\"sk-toggleable__content\"><pre>BaggingClassifier(base_estimator=Perceptron(), max_samples=0.3,\n",
       "                  n_estimators=500, random_state=42)</pre></div></div></div><div class=\"sk-parallel\"><div class=\"sk-parallel-item\"><div class=\"sk-item\"><div class=\"sk-label-container\"><div class=\"sk-label sk-toggleable\"><input class=\"sk-toggleable__control sk-hidden--visually\" id=\"sk-estimator-id-2\" type=\"checkbox\" ><label for=\"sk-estimator-id-2\" class=\"sk-toggleable__label sk-toggleable__label-arrow\">base_estimator: Perceptron</label><div class=\"sk-toggleable__content\"><pre>Perceptron()</pre></div></div></div><div class=\"sk-serial\"><div class=\"sk-item\"><div class=\"sk-estimator sk-toggleable\"><input class=\"sk-toggleable__control sk-hidden--visually\" id=\"sk-estimator-id-3\" type=\"checkbox\" ><label for=\"sk-estimator-id-3\" class=\"sk-toggleable__label sk-toggleable__label-arrow\">Perceptron</label><div class=\"sk-toggleable__content\"><pre>Perceptron()</pre></div></div></div></div></div></div></div></div></div></div>"
      ],
      "text/plain": [
       "BaggingClassifier(base_estimator=Perceptron(), max_samples=0.3,\n",
       "                  n_estimators=500, random_state=42)"
      ]
     },
     "execution_count": 13,
     "metadata": {},
     "output_type": "execute_result"
    }
   ],
   "source": [
    "bagging = BaggingClassifier(base_estimator=Perceptron(), n_estimators=params.bagging_size, max_samples=0.3, random_state=42)\n",
    "bagging.fit(dataset.train.x, dataset.train.y)"
   ]
  },
  {
   "cell_type": "code",
   "execution_count": 14,
   "id": "bef5e517-c57f-4ff9-abbc-dc5bee49005e",
   "metadata": {
    "execution": {
     "iopub.execute_input": "2022-12-04T13:43:47.701173Z",
     "iopub.status.busy": "2022-12-04T13:43:47.700894Z",
     "iopub.status.idle": "2022-12-04T13:43:48.483677Z",
     "shell.execute_reply": "2022-12-04T13:43:48.483203Z"
    },
    "papermill": {
     "duration": 0.788241,
     "end_time": "2022-12-04T13:43:48.485028",
     "exception": false,
     "start_time": "2022-12-04T13:43:47.696787",
     "status": "completed"
    },
    "tags": []
   },
   "outputs": [],
   "source": [
    "bagging_test_acc = accuracy_score(bagging.predict(dataset.test.x), dataset.test.y)"
   ]
  },
  {
   "cell_type": "code",
   "execution_count": 15,
   "id": "a7ffc23d-7811-43dc-a150-eb190216d812",
   "metadata": {
    "execution": {
     "iopub.execute_input": "2022-12-04T13:43:48.495397Z",
     "iopub.status.busy": "2022-12-04T13:43:48.495192Z",
     "iopub.status.idle": "2022-12-04T13:43:48.503812Z",
     "shell.execute_reply": "2022-12-04T13:43:48.503396Z"
    },
    "papermill": {
     "duration": 0.01633,
     "end_time": "2022-12-04T13:43:48.505122",
     "exception": false,
     "start_time": "2022-12-04T13:43:48.488792",
     "status": "completed"
    },
    "tags": []
   },
   "outputs": [],
   "source": [
    "from deslib.dcs.mcb import MCB\n",
    "# Example of a dcs techniques\n",
    "from deslib.dcs.ola import OLA\n",
    "# Example of a des techniques\n",
    "from deslib.des.des_p import DESP\n",
    "from deslib.des.knora_e import KNORAE\n",
    "from deslib.des.knora_u import KNORAU\n",
    "from deslib.des.meta_des import METADES"
   ]
  },
  {
   "cell_type": "code",
   "execution_count": 16,
   "id": "6466225a-5e86-4b12-94ec-8f95ea930fd8",
   "metadata": {
    "execution": {
     "iopub.execute_input": "2022-12-04T13:43:48.513218Z",
     "iopub.status.busy": "2022-12-04T13:43:48.513032Z",
     "iopub.status.idle": "2022-12-04T13:43:48.613471Z",
     "shell.execute_reply": "2022-12-04T13:43:48.612934Z"
    },
    "papermill": {
     "duration": 0.106155,
     "end_time": "2022-12-04T13:43:48.614631",
     "exception": false,
     "start_time": "2022-12-04T13:43:48.508476",
     "status": "completed"
    },
    "tags": []
   },
   "outputs": [],
   "source": [
    "knorau = KNORAU(extract_classifiers_from_bagging(bagging), k=5, random_state=42)\n",
    "kne = KNORAE(extract_classifiers_from_bagging(bagging), k=5, random_state=42)\n",
    "desp = DESP(extract_classifiers_from_bagging(bagging), k=5, random_state=42)\n",
    "ola = OLA(extract_classifiers_from_bagging(bagging), k=5, random_state=42)\n",
    "mcb = MCB(extract_classifiers_from_bagging(bagging), k=5, random_state=42)\n",
    "# meta = METADES(extract_classifiers_from_bagging(bagging), k=5, random_state=42)"
   ]
  },
  {
   "cell_type": "code",
   "execution_count": 17,
   "id": "0ccec520-4ce9-44c3-905c-a0984f3cf2b5",
   "metadata": {
    "execution": {
     "iopub.execute_input": "2022-12-04T13:43:48.622924Z",
     "iopub.status.busy": "2022-12-04T13:43:48.622644Z",
     "iopub.status.idle": "2022-12-04T13:43:51.043319Z",
     "shell.execute_reply": "2022-12-04T13:43:51.042736Z"
    },
    "papermill": {
     "duration": 2.425875,
     "end_time": "2022-12-04T13:43:51.044405",
     "exception": false,
     "start_time": "2022-12-04T13:43:48.618530",
     "status": "completed"
    },
    "tags": []
   },
   "outputs": [
    {
     "data": {
      "text/html": [
       "<style>#sk-container-id-2 {color: black;background-color: white;}#sk-container-id-2 pre{padding: 0;}#sk-container-id-2 div.sk-toggleable {background-color: white;}#sk-container-id-2 label.sk-toggleable__label {cursor: pointer;display: block;width: 100%;margin-bottom: 0;padding: 0.3em;box-sizing: border-box;text-align: center;}#sk-container-id-2 label.sk-toggleable__label-arrow:before {content: \"▸\";float: left;margin-right: 0.25em;color: #696969;}#sk-container-id-2 label.sk-toggleable__label-arrow:hover:before {color: black;}#sk-container-id-2 div.sk-estimator:hover label.sk-toggleable__label-arrow:before {color: black;}#sk-container-id-2 div.sk-toggleable__content {max-height: 0;max-width: 0;overflow: hidden;text-align: left;background-color: #f0f8ff;}#sk-container-id-2 div.sk-toggleable__content pre {margin: 0.2em;color: black;border-radius: 0.25em;background-color: #f0f8ff;}#sk-container-id-2 input.sk-toggleable__control:checked~div.sk-toggleable__content {max-height: 200px;max-width: 100%;overflow: auto;}#sk-container-id-2 input.sk-toggleable__control:checked~label.sk-toggleable__label-arrow:before {content: \"▾\";}#sk-container-id-2 div.sk-estimator input.sk-toggleable__control:checked~label.sk-toggleable__label {background-color: #d4ebff;}#sk-container-id-2 div.sk-label input.sk-toggleable__control:checked~label.sk-toggleable__label {background-color: #d4ebff;}#sk-container-id-2 input.sk-hidden--visually {border: 0;clip: rect(1px 1px 1px 1px);clip: rect(1px, 1px, 1px, 1px);height: 1px;margin: -1px;overflow: hidden;padding: 0;position: absolute;width: 1px;}#sk-container-id-2 div.sk-estimator {font-family: monospace;background-color: #f0f8ff;border: 1px dotted black;border-radius: 0.25em;box-sizing: border-box;margin-bottom: 0.5em;}#sk-container-id-2 div.sk-estimator:hover {background-color: #d4ebff;}#sk-container-id-2 div.sk-parallel-item::after {content: \"\";width: 100%;border-bottom: 1px solid gray;flex-grow: 1;}#sk-container-id-2 div.sk-label:hover label.sk-toggleable__label {background-color: #d4ebff;}#sk-container-id-2 div.sk-serial::before {content: \"\";position: absolute;border-left: 1px solid gray;box-sizing: border-box;top: 0;bottom: 0;left: 50%;z-index: 0;}#sk-container-id-2 div.sk-serial {display: flex;flex-direction: column;align-items: center;background-color: white;padding-right: 0.2em;padding-left: 0.2em;position: relative;}#sk-container-id-2 div.sk-item {position: relative;z-index: 1;}#sk-container-id-2 div.sk-parallel {display: flex;align-items: stretch;justify-content: center;background-color: white;position: relative;}#sk-container-id-2 div.sk-item::before, #sk-container-id-2 div.sk-parallel-item::before {content: \"\";position: absolute;border-left: 1px solid gray;box-sizing: border-box;top: 0;bottom: 0;left: 50%;z-index: -1;}#sk-container-id-2 div.sk-parallel-item {display: flex;flex-direction: column;z-index: 1;position: relative;background-color: white;}#sk-container-id-2 div.sk-parallel-item:first-child::after {align-self: flex-end;width: 50%;}#sk-container-id-2 div.sk-parallel-item:last-child::after {align-self: flex-start;width: 50%;}#sk-container-id-2 div.sk-parallel-item:only-child::after {width: 0;}#sk-container-id-2 div.sk-dashed-wrapped {border: 1px dashed gray;margin: 0 0.4em 0.5em 0.4em;box-sizing: border-box;padding-bottom: 0.4em;background-color: white;}#sk-container-id-2 div.sk-label label {font-family: monospace;font-weight: bold;display: inline-block;line-height: 1.2em;}#sk-container-id-2 div.sk-label-container {text-align: center;}#sk-container-id-2 div.sk-container {/* jupyter's `normalize.less` sets `[hidden] { display: none; }` but bootstrap.min.css set `[hidden] { display: none !important; }` so we also need the `!important` here to be able to override the default hidden behavior on the sphinx rendered scikit-learn.org. See: https://github.com/scikit-learn/scikit-learn/issues/21755 */display: inline-block !important;position: relative;}#sk-container-id-2 div.sk-text-repr-fallback {display: none;}</style><div id=\"sk-container-id-2\" class=\"sk-top-container\"><div class=\"sk-text-repr-fallback\"><pre>MCB(k=5,\n",
       "    pool_classifiers=[Perceptron(random_state=1952926171),\n",
       "                      Perceptron(random_state=1761383086),\n",
       "                      Perceptron(random_state=1449071958),\n",
       "                      Perceptron(random_state=1910541088),\n",
       "                      Perceptron(random_state=1341730541),\n",
       "                      Perceptron(random_state=1286572245),\n",
       "                      Perceptron(random_state=1005142668),\n",
       "                      Perceptron(random_state=502852014),\n",
       "                      Perceptron(random_state=186414760),\n",
       "                      Pe...\n",
       "                      Perceptron(random_state=420198453),\n",
       "                      Perceptron(random_state=1930947788),\n",
       "                      Perceptron(random_state=1419989711),\n",
       "                      Perceptron(random_state=1242586904),\n",
       "                      Perceptron(random_state=1836411051),\n",
       "                      Perceptron(random_state=1419187828),\n",
       "                      Perceptron(random_state=1418767096),\n",
       "                      Perceptron(random_state=694812580),\n",
       "                      Perceptron(random_state=1521681307),\n",
       "                      Perceptron(random_state=649915709), ...],\n",
       "    random_state=42)</pre><b>In a Jupyter environment, please rerun this cell to show the HTML representation or trust the notebook. <br />On GitHub, the HTML representation is unable to render, please try loading this page with nbviewer.org.</b></div><div class=\"sk-container\" hidden><div class=\"sk-item\"><div class=\"sk-estimator sk-toggleable\"><input class=\"sk-toggleable__control sk-hidden--visually\" id=\"sk-estimator-id-4\" type=\"checkbox\" checked><label for=\"sk-estimator-id-4\" class=\"sk-toggleable__label sk-toggleable__label-arrow\">MCB</label><div class=\"sk-toggleable__content\"><pre>MCB(k=5,\n",
       "    pool_classifiers=[Perceptron(random_state=1952926171),\n",
       "                      Perceptron(random_state=1761383086),\n",
       "                      Perceptron(random_state=1449071958),\n",
       "                      Perceptron(random_state=1910541088),\n",
       "                      Perceptron(random_state=1341730541),\n",
       "                      Perceptron(random_state=1286572245),\n",
       "                      Perceptron(random_state=1005142668),\n",
       "                      Perceptron(random_state=502852014),\n",
       "                      Perceptron(random_state=186414760),\n",
       "                      Pe...\n",
       "                      Perceptron(random_state=420198453),\n",
       "                      Perceptron(random_state=1930947788),\n",
       "                      Perceptron(random_state=1419989711),\n",
       "                      Perceptron(random_state=1242586904),\n",
       "                      Perceptron(random_state=1836411051),\n",
       "                      Perceptron(random_state=1419187828),\n",
       "                      Perceptron(random_state=1418767096),\n",
       "                      Perceptron(random_state=694812580),\n",
       "                      Perceptron(random_state=1521681307),\n",
       "                      Perceptron(random_state=649915709), ...],\n",
       "    random_state=42)</pre></div></div></div></div></div>"
      ],
      "text/plain": [
       "MCB(k=5,\n",
       "    pool_classifiers=[Perceptron(random_state=1952926171),\n",
       "                      Perceptron(random_state=1761383086),\n",
       "                      Perceptron(random_state=1449071958),\n",
       "                      Perceptron(random_state=1910541088),\n",
       "                      Perceptron(random_state=1341730541),\n",
       "                      Perceptron(random_state=1286572245),\n",
       "                      Perceptron(random_state=1005142668),\n",
       "                      Perceptron(random_state=502852014),\n",
       "                      Perceptron(random_state=186414760),\n",
       "                      Pe...\n",
       "                      Perceptron(random_state=420198453),\n",
       "                      Perceptron(random_state=1930947788),\n",
       "                      Perceptron(random_state=1419989711),\n",
       "                      Perceptron(random_state=1242586904),\n",
       "                      Perceptron(random_state=1836411051),\n",
       "                      Perceptron(random_state=1419187828),\n",
       "                      Perceptron(random_state=1418767096),\n",
       "                      Perceptron(random_state=694812580),\n",
       "                      Perceptron(random_state=1521681307),\n",
       "                      Perceptron(random_state=649915709), ...],\n",
       "    random_state=42)"
      ]
     },
     "execution_count": 17,
     "metadata": {},
     "output_type": "execute_result"
    }
   ],
   "source": [
    "knorau.fit(dataset.train.x, dataset.train.y)\n",
    "kne.fit(dataset.train.x, dataset.train.y)\n",
    "desp.fit(dataset.train.x, dataset.train.y)\n",
    "ola.fit(dataset.train.x, dataset.train.y)\n",
    "mcb.fit(dataset.train.x, dataset.train.y)\n",
    "# meta.fit(dataset.train.x, dataset.train.y)\n"
   ]
  },
  {
   "cell_type": "code",
   "execution_count": 18,
   "id": "2d451b01-878a-4b84-9f07-647563aac6fd",
   "metadata": {
    "execution": {
     "iopub.execute_input": "2022-12-04T13:43:51.054128Z",
     "iopub.status.busy": "2022-12-04T13:43:51.053863Z",
     "iopub.status.idle": "2022-12-04T13:43:56.028718Z",
     "shell.execute_reply": "2022-12-04T13:43:56.027992Z"
    },
    "papermill": {
     "duration": 4.981432,
     "end_time": "2022-12-04T13:43:56.030123",
     "exception": false,
     "start_time": "2022-12-04T13:43:51.048691",
     "status": "completed"
    },
    "tags": []
   },
   "outputs": [],
   "source": [
    "knorau_acc = accuracy_score(knorau.predict(dataset.test.x), dataset.test.y)\n",
    "kne_acc = accuracy_score(kne.predict(dataset.test.x), dataset.test.y)\n",
    "desp_acc = accuracy_score(desp.predict(dataset.test.x), dataset.test.y)\n",
    "ola_acc = accuracy_score(ola.predict(dataset.test.x), dataset.test.y)\n",
    "mcb_acc = accuracy_score(mcb.predict(dataset.test.x), dataset.test.y)"
   ]
  },
  {
   "cell_type": "code",
   "execution_count": 19,
   "id": "fcb4d8a7-58df-4285-bc09-c7d354a8e490",
   "metadata": {
    "execution": {
     "iopub.execute_input": "2022-12-04T13:43:56.040983Z",
     "iopub.status.busy": "2022-12-04T13:43:56.040721Z",
     "iopub.status.idle": "2022-12-04T13:43:56.066821Z",
     "shell.execute_reply": "2022-12-04T13:43:56.066394Z"
    },
    "papermill": {
     "duration": 0.033728,
     "end_time": "2022-12-04T13:43:56.067899",
     "exception": false,
     "start_time": "2022-12-04T13:43:56.034171",
     "status": "completed"
    },
    "tags": []
   },
   "outputs": [],
   "source": [
    "mlflow.log_metrics({\n",
    "    'knorau_test_acc': knorau_acc,\n",
    "    'kne_test_acc': kne_acc,\n",
    "    'desp_test_acc': desp_acc,\n",
    "    'ola_test_acc': ola_acc,\n",
    "    'mcb_test_acc': mcb_acc,\n",
    "    'bagging_test_acc': bagging_test_acc,\n",
    "    \n",
    "})"
   ]
  },
  {
   "cell_type": "code",
   "execution_count": 20,
   "id": "793655b1-5fa4-4466-a0a0-9b3025238d49",
   "metadata": {
    "execution": {
     "iopub.execute_input": "2022-12-04T13:43:56.076347Z",
     "iopub.status.busy": "2022-12-04T13:43:56.076006Z",
     "iopub.status.idle": "2022-12-04T13:43:56.097846Z",
     "shell.execute_reply": "2022-12-04T13:43:56.097426Z"
    },
    "papermill": {
     "duration": 0.027297,
     "end_time": "2022-12-04T13:43:56.098888",
     "exception": false,
     "start_time": "2022-12-04T13:43:56.071591",
     "status": "completed"
    },
    "tags": []
   },
   "outputs": [],
   "source": [
    "mlflow.end_run()"
   ]
  }
 ],
 "metadata": {
  "kernelspec": {
   "display_name": "Python 3 (ipykernel)",
   "language": "python",
   "name": "python3"
  },
  "language_info": {
   "codemirror_mode": {
    "name": "ipython",
    "version": 3
   },
   "file_extension": ".py",
   "mimetype": "text/x-python",
   "name": "python",
   "nbconvert_exporter": "python",
   "pygments_lexer": "ipython3",
   "version": "3.10.6"
  },
  "papermill": {
   "default_parameters": {},
   "duration": 35.727924,
   "end_time": "2022-12-04T13:43:56.517322",
   "environment_variables": {},
   "exception": null,
   "input_path": "/home/bogul/scalarizing/notebooks/base_results.ipynb",
   "output_path": "/home/bogul/tmp/bogul-exp-ijcnnsz_5lsl_/a636350c80144b038a0e805d8ba912a2.ipynb",
   "parameters": {
    "EXPERIMENT_INSTANCE_ID": "a636350c80144b038a0e805d8ba912a2"
   },
   "start_time": "2022-12-04T13:43:20.789398",
   "version": "2.4.0"
  }
 },
 "nbformat": 4,
 "nbformat_minor": 5
}