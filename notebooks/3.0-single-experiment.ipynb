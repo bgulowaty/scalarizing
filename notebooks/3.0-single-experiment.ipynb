{
 "cells": [
  {
   "cell_type": "code",
   "execution_count": 1,
   "metadata": {
    "pycharm": {
     "name": "#%%\n"
    },
    "tags": [
     "parameters"
    ]
   },
   "outputs": [],
   "source": [
    "EXPERIMENT_INSTANCE_ID = \"fa1926761b4f47dbab4152a405a6df91\"\n"
   ]
  },
  {
   "cell_type": "code",
   "execution_count": 2,
   "metadata": {
    "collapsed": false,
    "jupyter": {
     "outputs_hidden": false
    },
    "pycharm": {
     "name": "#%%\n"
    }
   },
   "outputs": [
    {
     "name": "stderr",
     "output_type": "stream",
     "text": [
      "/home/bogul/scalarizing/.venv/lib/python3.10/site-packages/tqdm/auto.py:22: TqdmWarning: IProgress not found. Please update jupyter and ipywidgets. See https://ipywidgets.readthedocs.io/en/stable/user_install.html\n",
      "  from .autonotebook import tqdm as notebook_tqdm\n",
      "ujson module not found, using json\n"
     ]
    }
   ],
   "source": [
    "import sys\n",
    "import warnings\n",
    "from concurrent.futures import ProcessPoolExecutor, ThreadPoolExecutor\n",
    "from copy import deepcopy\n",
    "\n",
    "from distributed import Client\n",
    "from mlflow import MlflowClient\n",
    "from mlflow.entities import RunStatus\n",
    "from distributed import get_client\n",
    "\n",
    "import ray\n",
    "from tqdm.auto import tqdm\n",
    "import mlflow\n",
    "import numpy as np\n",
    "from loguru import logger\n",
    "from mlxtend.classifier import EnsembleVoteClassifier\n",
    "from pymoo.algorithms.soo.nonconvex.ga import GA\n",
    "from pymoo.optimize import minimize\n",
    "from sklearn.ensemble import BaggingClassifier\n",
    "from sklearn.metrics import accuracy_score\n",
    "from pymoo.core.problem import DaskParallelization\n",
    "\n",
    "from scalarizing.scalarizing import FindingBestExpressionSingleDatasetProblem, FindingBestExpressionProblemMutation, \\\n",
    "    FindingBestExpressionProblemCrossover, FindingBestExpressionProblemSampling, scorer_creator\n",
    "from scalarizing.scoring_functions import default_scoring_function, diversity_metric_scoring_function\n",
    "from scalarizing.utils import top_n_indicies\n",
    "from glob import glob\n",
    "import pandas as pd\n",
    "from box import Box\n",
    "from sklearn.linear_model import Perceptron\n"
   ]
  },
  {
   "cell_type": "code",
   "execution_count": 3,
   "metadata": {},
   "outputs": [],
   "source": [
    "run = mlflow.start_run(run_id=EXPERIMENT_INSTANCE_ID)"
   ]
  },
  {
   "cell_type": "code",
   "execution_count": 4,
   "metadata": {},
   "outputs": [],
   "source": [
    "params = Box(run.data.params, box_recast={\n",
    "                'bagging_size': int,\n",
    "                'ensemble_size': int,\n",
    "                'n_gen': int,\n",
    "                'pop_size' : int\n",
    "            })"
   ]
  },
  {
   "cell_type": "code",
   "execution_count": 5,
   "metadata": {},
   "outputs": [
    {
     "data": {
      "text/plain": [
       "<Box: {'bagging_size': 500, 'ensemble_size': 20, 'n_gen': 100, 'pop_size': 100, 'scoring_method': 'normal', 'train_path': '../../datasets/processed/nursery-train-3-s1.csv', 'dataset': 'nursery-3-s1.csv'}>"
      ]
     },
     "execution_count": 5,
     "metadata": {},
     "output_type": "execute_result"
    }
   ],
   "source": [
    "params"
   ]
  },
  {
   "cell_type": "code",
   "execution_count": 6,
   "metadata": {
    "collapsed": false,
    "jupyter": {
     "outputs_hidden": false
    },
    "pycharm": {
     "name": "#%%\n"
    }
   },
   "outputs": [],
   "source": [
    "def read_dataset(path):\n",
    "    data = pd.read_csv(path)\n",
    "    x = data.drop('TARGET', axis=1).values\n",
    "    y = data['TARGET'].values\n",
    "\n",
    "    return {\n",
    "        \"x\": x,\n",
    "        \"y\": y\n",
    "    }"
   ]
  },
  {
   "cell_type": "code",
   "execution_count": 7,
   "metadata": {},
   "outputs": [],
   "source": [
    "train_path = params.train_path\n",
    "test_path = train_path.replace('train','test')"
   ]
  },
  {
   "cell_type": "code",
   "execution_count": 8,
   "metadata": {},
   "outputs": [
    {
     "data": {
      "text/plain": [
       "'../../datasets/processed/nursery-train-3-s1.csv'"
      ]
     },
     "execution_count": 8,
     "metadata": {},
     "output_type": "execute_result"
    }
   ],
   "source": [
    "train_path"
   ]
  },
  {
   "cell_type": "code",
   "execution_count": 9,
   "metadata": {},
   "outputs": [
    {
     "data": {
      "text/plain": [
       "'../../datasets/processed/nursery-test-3-s1.csv'"
      ]
     },
     "execution_count": 9,
     "metadata": {},
     "output_type": "execute_result"
    }
   ],
   "source": [
    "test_path"
   ]
  },
  {
   "cell_type": "code",
   "execution_count": 10,
   "metadata": {},
   "outputs": [],
   "source": [
    "del params['train_path']"
   ]
  },
  {
   "cell_type": "code",
   "execution_count": 11,
   "metadata": {
    "collapsed": false,
    "jupyter": {
     "outputs_hidden": false
    },
    "pycharm": {
     "name": "#%%\n"
    }
   },
   "outputs": [],
   "source": [
    "dataset = Box({\n",
    "        'train': read_dataset(train_path),\n",
    "        'test': read_dataset(test_path),\n",
    "        'name': train_path.split(\"/\")[-1].replace(\"-train\", '')\n",
    "    })\n"
   ]
  },
  {
   "cell_type": "code",
   "execution_count": 12,
   "metadata": {
    "collapsed": false,
    "jupyter": {
     "outputs_hidden": false
    },
    "pycharm": {
     "name": "#%%\n"
    }
   },
   "outputs": [],
   "source": [
    "class predict_wrapper(object):\n",
    "    def __init__(self, predict_func, labels):\n",
    "        self.predict_func = predict_func\n",
    "        self.labels = labels\n",
    "\n",
    "    def __call__(self, *args, **kwargs):\n",
    "        return self.labels[self.predict_func(*args, **kwargs)]\n",
    "\n",
    "def raise_not_implemented():\n",
    "    raise NotImplemented(\"Predict proba is not supported\")\n",
    "def extract_classifiers_from_bagging(bagging):\n",
    "\n",
    "    extracted = []\n",
    "    for classifier in bagging.estimators_:\n",
    "        cloned_classifier = deepcopy(classifier)\n",
    "        cloned_classifier.predict = predict_wrapper(cloned_classifier.predict, bagging.classes_)\n",
    "        cloned_classifier.predict_proba = raise_not_implemented\n",
    "\n",
    "        extracted.append(cloned_classifier)\n",
    "\n",
    "    return extracted"
   ]
  },
  {
   "cell_type": "code",
   "execution_count": 13,
   "metadata": {
    "collapsed": false,
    "jupyter": {
     "outputs_hidden": false
    },
    "pycharm": {
     "name": "#%%\n"
    }
   },
   "outputs": [],
   "source": [
    "@ray.remote\n",
    "def execute_in_ray(f, x):\n",
    "    return f(x)\n",
    "\n",
    "class RayParallelization:\n",
    "\n",
    "    def __init__(self) -> None:\n",
    "        super().__init__()\n",
    "\n",
    "    def __call__(self, f, X):\n",
    "        results = [execute_in_ray.remote(f, x) for x in X]\n",
    "\n",
    "        return ray.get(results)\n",
    "\n",
    "\n",
    "    def __getstate__(self):\n",
    "        state = self.__dict__.copy()\n",
    "        return state\n",
    "\n"
   ]
  },
  {
   "cell_type": "code",
   "execution_count": 14,
   "metadata": {
    "collapsed": false,
    "jupyter": {
     "outputs_hidden": false
    },
    "pycharm": {
     "name": "#%%\n"
    }
   },
   "outputs": [],
   "source": [
    "class ExecutorParallelization:\n",
    "\n",
    "    def __init__(self, executor) -> None:\n",
    "        super().__init__()\n",
    "        self.executor = executor\n",
    "\n",
    "    def __call__(self, f, X):\n",
    "        jobs = [self.executor.submit(f, x) for x in X]\n",
    "        return [job.result() for job in jobs]\n",
    "\n",
    "    def __getstate__(self):\n",
    "        state = self.__dict__.copy()\n",
    "        state.pop(\"executor\", None) # is not serializable\n",
    "        return state"
   ]
  },
  {
   "cell_type": "code",
   "execution_count": 15,
   "metadata": {
    "collapsed": false,
    "jupyter": {
     "outputs_hidden": false
    },
    "pycharm": {
     "name": "#%%\n"
    }
   },
   "outputs": [
    {
     "data": {
      "text/plain": [
       "1"
      ]
     },
     "execution_count": 15,
     "metadata": {},
     "output_type": "execute_result"
    }
   ],
   "source": [
    "warnings.filterwarnings(\"ignore\")\n",
    "\n",
    "logger.remove()\n",
    "logger.add(sys.stdout, level='INFO')"
   ]
  },
  {
   "cell_type": "code",
   "execution_count": 16,
   "metadata": {
    "collapsed": false,
    "jupyter": {
     "outputs_hidden": false
    },
    "pycharm": {
     "name": "#%%\n"
    }
   },
   "outputs": [],
   "source": [
    "def do_run_experiment(dataset, params, run_id, scoring_function=default_scoring_function, parallelization=RayParallelization(), mlflow_client = MlflowClient()):\n",
    "    from loguru import logger\n",
    "\n",
    "    bagging = BaggingClassifier(base_estimator=Perceptron(), n_estimators=params.bagging_size, max_samples=0.3)\n",
    "    bagging.fit(dataset.train.x, dataset.train.y)\n",
    "    problem = FindingBestExpressionSingleDatasetProblem(dataset.train, extract_classifiers_from_bagging(bagging), ensemble_size=params.ensemble_size, scoring_function=scoring_function, elementwise_runner=parallelization)\n",
    "    result = minimize(problem,\n",
    "                      GA(\n",
    "                          pop_size=params.pop_size,\n",
    "                          verbose=True,\n",
    "                          seed=42,\n",
    "                          eliminate_duplicates=False,\n",
    "                          mutation=FindingBestExpressionProblemMutation(),\n",
    "                          crossover=FindingBestExpressionProblemCrossover(),\n",
    "                          sampling=FindingBestExpressionProblemSampling()\n",
    "                      ),\n",
    "                      (\"n_gen\", params.n_gen),\n",
    "                      verbose=False,\n",
    "                      save_history=False,\n",
    "                      seed=42)\n",
    "\n",
    "    bagging_estimators = np.array(extract_classifiers_from_bagging(bagging))\n",
    "\n",
    "    scorer = scorer_creator(result.X[0], labels=np.unique(dataset.train.y))\n",
    "    estimator_accuracies = []\n",
    "    estimator_scores = []\n",
    "\n",
    "    for estimator in bagging_estimators:\n",
    "        predictions = estimator.predict(dataset.train.x)\n",
    "\n",
    "        estimator_accuracies.append(accuracy_score(dataset.train.y, predictions))\n",
    "        estimator_scores.append(scorer(dataset.train.y, predictions))\n",
    "\n",
    "    estimators_selected_by_accuracy = bagging_estimators[top_n_indicies(estimator_accuracies, params.ensemble_size)]\n",
    "\n",
    "    ensemble = EnsembleVoteClassifier(clfs=estimators_selected_by_accuracy,\n",
    "                                      weights=[1 for _ in range(params.ensemble_size)],\n",
    "                                      fit_base_estimators=False)\n",
    "\n",
    "    ensemble.fit(dataset.train.x, dataset.train.y) # Required by design, but does nothing apart from checking labels\n",
    "    accuracy_ensemble_train_accuracy = accuracy_score(dataset.train.y, ensemble.predict(dataset.train.x))\n",
    "    accuracy_ensemble_accuracy = accuracy_score(dataset.test.y, ensemble.predict(dataset.test.x))\n",
    "\n",
    "\n",
    "    estimators_selected_by_score = bagging_estimators[top_n_indicies(estimator_scores, params.ensemble_size)]\n",
    "    ensemble = EnsembleVoteClassifier(clfs=estimators_selected_by_score,\n",
    "                                      weights=[1 for _ in range(params.ensemble_size)],\n",
    "                                      fit_base_estimators=False)\n",
    "\n",
    "    ensemble.fit(dataset.train.x, dataset.train.y) # Required by design, but does nothing apart from checking labels\n",
    "    score_ensemble_train_accuracy = accuracy_score(dataset.train.y, ensemble.predict(dataset.train.x))\n",
    "    score_ensemble_accuracy = accuracy_score(dataset.test.y, ensemble.predict(dataset.test.x))\n",
    "\n",
    "\n",
    "    if(accuracy_ensemble_train_accuracy > score_ensemble_train_accuracy):\n",
    "        mlflow_client.log_metric(run_id, \"accuracy_ensemble_selected\", True)\n",
    "        selected_ensemble_accuracy = accuracy_ensemble_accuracy\n",
    "    else:\n",
    "        selected_ensemble_accuracy = score_ensemble_accuracy\n",
    "\n",
    "    mlflow_client.log_metric(run_id, \"selected_ensemble_accuracy\", selected_ensemble_accuracy)\n",
    "    mlflow_client.log_metric(run_id, \"method_selection_accuracy\", score_ensemble_accuracy)\n",
    "    mlflow_client.log_metric(run_id, \"accuracy_selection_accuracy\", accuracy_ensemble_accuracy)\n",
    "\n",
    "    logger.info(f\"{idx} method={selected_ensemble_accuracy} normal={accuracy_ensemble_accuracy}, discarded={accuracy_ensemble_train_accuracy > score_ensemble_train_accuracy}, diff={score_ensemble_accuracy-accuracy_ensemble_accuracy}\")"
   ]
  },
  {
   "cell_type": "code",
   "execution_count": 17,
   "metadata": {
    "collapsed": false,
    "jupyter": {
     "outputs_hidden": false
    },
    "pycharm": {
     "name": "#%%\n"
    }
   },
   "outputs": [],
   "source": [
    "def run_experiment(dataset, params, run_id, parallelization=RayParallelization()):\n",
    "    scoring_function = default_scoring_function\n",
    "    \n",
    "    if params.scoring_method == 'diversity':\n",
    "        scoring_function = diversity_metric_scoring_function\n",
    "    \n",
    "    \n",
    "    from loguru import logger\n",
    "    mlflow_client = MlflowClient()\n",
    "\n",
    "    mlflow_client.log_param(run_id, \"dataset\", dataset.name)\n",
    "\n",
    "    try:\n",
    "        do_run_experiment(dataset, params, scoring_function=scoring_function, run_id=run_id, parallelization=parallelization)\n",
    "        mlflow_client.set_terminated(run_id=run_id)\n",
    "    except Exception as ex:\n",
    "        logger.exception(ex)\n",
    "        mlflow_client.set_terminated(run_id=run_id, status=\"FAILED\")\n",
    "\n"
   ]
  },
  {
   "cell_type": "code",
   "execution_count": 18,
   "metadata": {},
   "outputs": [
    {
     "data": {
      "text/plain": [
       "<Box: {'bagging_size': 500, 'ensemble_size': 20, 'n_gen': 100, 'pop_size': 100, 'scoring_method': 'normal', 'dataset': 'nursery-3-s1.csv'}>"
      ]
     },
     "execution_count": 18,
     "metadata": {},
     "output_type": "execute_result"
    }
   ],
   "source": [
    "params"
   ]
  },
  {
   "cell_type": "code",
   "execution_count": null,
   "metadata": {},
   "outputs": [],
   "source": []
  },
  {
   "cell_type": "code",
   "execution_count": null,
   "metadata": {},
   "outputs": [],
   "source": []
  },
  {
   "cell_type": "code",
   "execution_count": 19,
   "metadata": {},
   "outputs": [],
   "source": [
    "import dill\n",
    "from scalarizing.utils import np_cache\n",
    "def custom_serializer(a):\n",
    "    return dill.dumps(a)\n",
    "\n",
    "def custom_deserializer(b):\n",
    "    return dill.loads(b)"
   ]
  },
  {
   "cell_type": "code",
   "execution_count": 20,
   "metadata": {},
   "outputs": [],
   "source": [
    "ray.util.register_serializer(\n",
    "  np_cache, serializer=custom_serializer, deserializer=custom_deserializer)"
   ]
  },
  {
   "cell_type": "code",
   "execution_count": 21,
   "metadata": {},
   "outputs": [
    {
     "name": "stdout",
     "output_type": "stream",
     "text": [
      "=======================================================================\n",
      "Checking Serializability of <function run_experiment at 0x2af47bd07d90>\n",
      "=======================================================================\n"
     ]
    },
    {
     "data": {
      "text/plain": [
       "(True, set())"
      ]
     },
     "execution_count": 21,
     "metadata": {},
     "output_type": "execute_result"
    }
   ],
   "source": [
    "ray.util.inspect_serializability(run_experiment)"
   ]
  },
  {
   "cell_type": "code",
   "execution_count": 22,
   "metadata": {},
   "outputs": [],
   "source": [
    "from concurrent.futures import ProcessPoolExecutor"
   ]
  },
  {
   "cell_type": "code",
   "execution_count": 23,
   "metadata": {},
   "outputs": [],
   "source": [
    "from aiocache import cached, Cache"
   ]
  },
  {
   "cell_type": "code",
   "execution_count": 24,
   "metadata": {},
   "outputs": [],
   "source": [
    "def some_x(a):\n",
    "    return a + 2"
   ]
  },
  {
   "cell_type": "code",
   "execution_count": 25,
   "metadata": {},
   "outputs": [],
   "source": [
    "cached_some_x = cached(cache=Cache.MEMORY)(some_x)"
   ]
  },
  {
   "cell_type": "code",
   "execution_count": 26,
   "metadata": {},
   "outputs": [],
   "source": [
    "executor = ProcessPoolExecutor(2)"
   ]
  },
  {
   "cell_type": "code",
   "execution_count": 27,
   "metadata": {
    "collapsed": false,
    "jupyter": {
     "outputs_hidden": false
    },
    "pycharm": {
     "name": "#%%\n"
    }
   },
   "outputs": [
    {
     "name": "stdout",
     "output_type": "stream",
     "text": [
      "\n",
      "Compiled modules for significant speedup can not be used!\n",
      "https://pymoo.org/installation.html#installation\n",
      "\n",
      "To disable this warning:\n",
      "from pymoo.config import Config\n",
      "Config.warnings['not_compiled'] = False\n",
      "\n",
      "2022-11-26 13:57:31.339 | ERROR    | __main__:run_experiment:17 - y contains previously unseen labels: [2]\n",
      "concurrent.futures.process._RemoteTraceback: \n",
      "\"\"\"\n",
      "Traceback (most recent call last):\n",
      "  File \"/home/bogul/mambaforge/lib/python3.10/concurrent/futures/process.py\", line 246, in _process_worker\n",
      "    r = call_item.fn(*call_item.args, **call_item.kwargs)\n",
      "  File \"/home/bogul/scalarizing/.venv/lib/python3.10/site-packages/pymoo/core/problem.py\", line 20, in __call__\n",
      "    self.problem._evaluate(x, out, *self.args, **self.kwargs)\n",
      "  File \"/home/bogul/scalarizing/scalarizing/scalarizing.py\", line 162, in _evaluate\n",
      "    out[\"F\"] = self.scoring_function(scorer, self.folds_iterator(), self.classifiers, self.ensemble_size)\n",
      "  File \"/home/bogul/scalarizing/scalarizing/scoring_functions.py\", line 28, in default_scoring_function\n",
      "    'by_score': accuracy_score(y_test, voting_clf.predict(x_test)),\n",
      "  File \"/home/bogul/scalarizing/.venv/lib/python3.10/site-packages/mlxtend/classifier/ensemble_vote.py\", line 234, in predict\n",
      "    predictions = self._predict(X)\n",
      "  File \"/home/bogul/scalarizing/.venv/lib/python3.10/site-packages/mlxtend/classifier/ensemble_vote.py\", line 313, in _predict\n",
      "    [self.le_.transform(clf.predict(X)) for clf in self.clfs_]\n",
      "  File \"/home/bogul/scalarizing/.venv/lib/python3.10/site-packages/mlxtend/classifier/ensemble_vote.py\", line 313, in <listcomp>\n",
      "    [self.le_.transform(clf.predict(X)) for clf in self.clfs_]\n",
      "  File \"/home/bogul/scalarizing/.venv/lib/python3.10/site-packages/sklearn/preprocessing/_label.py\", line 138, in transform\n",
      "    return _encode(y, uniques=self.classes_)\n",
      "  File \"/home/bogul/scalarizing/.venv/lib/python3.10/site-packages/sklearn/utils/_encode.py\", line 231, in _encode\n",
      "    raise ValueError(f\"y contains previously unseen labels: {str(diff)}\")\n",
      "ValueError: y contains previously unseen labels: [2]\n",
      "\"\"\"\n",
      "\n",
      "\n",
      "The above exception was the direct cause of the following exception:\n",
      "\n",
      "\n",
      "Traceback (most recent call last):\n",
      "\n",
      "  File \"/home/bogul/mambaforge/lib/python3.10/runpy.py\", line 196, in _run_module_as_main\n",
      "    return _run_code(code, main_globals, None,\n",
      "           │         │     └ {'__name__': '__main__', '__doc__': 'Entry point for launching an IPython kernel.\\n\\nThis is separate from the ipykernel pack...\n",
      "           │         └ <code object <module> at 0x2af37291c710, file \"/home/bogul/scalarizing/.venv/lib/python3.10/site-packages/ipykernel_launcher....\n",
      "           └ <function _run_code at 0x2af3729201f0>\n",
      "  File \"/home/bogul/mambaforge/lib/python3.10/runpy.py\", line 86, in _run_code\n",
      "    exec(code, run_globals)\n",
      "         │     └ {'__name__': '__main__', '__doc__': 'Entry point for launching an IPython kernel.\\n\\nThis is separate from the ipykernel pack...\n",
      "         └ <code object <module> at 0x2af37291c710, file \"/home/bogul/scalarizing/.venv/lib/python3.10/site-packages/ipykernel_launcher....\n",
      "  File \"/home/bogul/scalarizing/.venv/lib/python3.10/site-packages/ipykernel_launcher.py\", line 17, in <module>\n",
      "    app.launch_new_instance()\n",
      "    │   └ <bound method Application.launch_instance of <class 'ipykernel.kernelapp.IPKernelApp'>>\n",
      "    └ <module 'ipykernel.kernelapp' from '/home/bogul/scalarizing/.venv/lib/python3.10/site-packages/ipykernel/kernelapp.py'>\n",
      "  File \"/home/bogul/scalarizing/.venv/lib/python3.10/site-packages/traitlets/config/application.py\", line 982, in launch_instance\n",
      "    app.start()\n",
      "    │   └ <function IPKernelApp.start at 0x2af3758a0ee0>\n",
      "    └ <ipykernel.kernelapp.IPKernelApp object at 0x2af37279d510>\n",
      "  File \"/home/bogul/scalarizing/.venv/lib/python3.10/site-packages/ipykernel/kernelapp.py\", line 712, in start\n",
      "    self.io_loop.start()\n",
      "    │    │       └ <function BaseAsyncIOLoop.start at 0x2af373895630>\n",
      "    │    └ <tornado.platform.asyncio.AsyncIOMainLoop object at 0x2af375896320>\n",
      "    └ <ipykernel.kernelapp.IPKernelApp object at 0x2af37279d510>\n",
      "  File \"/home/bogul/scalarizing/.venv/lib/python3.10/site-packages/tornado/platform/asyncio.py\", line 199, in start\n",
      "    self.asyncio_loop.run_forever()\n",
      "    │    │            └ <function BaseEventLoop.run_forever at 0x2af372f64e50>\n",
      "    │    └ <_UnixSelectorEventLoop running=True closed=False debug=False>\n",
      "    └ <tornado.platform.asyncio.AsyncIOMainLoop object at 0x2af375896320>\n",
      "  File \"/home/bogul/mambaforge/lib/python3.10/asyncio/base_events.py\", line 600, in run_forever\n",
      "    self._run_once()\n",
      "    │    └ <function BaseEventLoop._run_once at 0x2af372f66950>\n",
      "    └ <_UnixSelectorEventLoop running=True closed=False debug=False>\n",
      "  File \"/home/bogul/mambaforge/lib/python3.10/asyncio/base_events.py\", line 1896, in _run_once\n",
      "    handle._run()\n",
      "    │      └ <function Handle._run at 0x2af372efde10>\n",
      "    └ <Handle Task.task_wakeup(<Future finis...1c0>, ...],))>)>\n",
      "  File \"/home/bogul/mambaforge/lib/python3.10/asyncio/events.py\", line 80, in _run\n",
      "    self._context.run(self._callback, *self._args)\n",
      "    │    │            │    │           │    └ <member '_args' of 'Handle' objects>\n",
      "    │    │            │    │           └ <Handle Task.task_wakeup(<Future finis...1c0>, ...],))>)>\n",
      "    │    │            │    └ <member '_callback' of 'Handle' objects>\n",
      "    │    │            └ <Handle Task.task_wakeup(<Future finis...1c0>, ...],))>)>\n",
      "    │    └ <member '_context' of 'Handle' objects>\n",
      "    └ <Handle Task.task_wakeup(<Future finis...1c0>, ...],))>)>\n",
      "  File \"/home/bogul/scalarizing/.venv/lib/python3.10/site-packages/ipykernel/kernelbase.py\", line 510, in dispatch_queue\n",
      "    await self.process_one()\n",
      "          │    └ <function Kernel.process_one at 0x2af374c18ca0>\n",
      "          └ <ipykernel.ipkernel.IPythonKernel object at 0x2af3758d4d00>\n",
      "  File \"/home/bogul/scalarizing/.venv/lib/python3.10/site-packages/ipykernel/kernelbase.py\", line 499, in process_one\n",
      "    await dispatch(*args)\n",
      "          │         └ ([<zmq.sugar.frame.Frame object at 0x2af3758a6820>, <zmq.sugar.frame.Frame object at 0x2af372a297a0>, <zmq.sugar.frame.Frame ...\n",
      "          └ <bound method Kernel.dispatch_shell of <ipykernel.ipkernel.IPythonKernel object at 0x2af3758d4d00>>\n",
      "  File \"/home/bogul/scalarizing/.venv/lib/python3.10/site-packages/ipykernel/kernelbase.py\", line 406, in dispatch_shell\n",
      "    await result\n",
      "          └ <coroutine object Kernel.execute_request at 0x2af47bdcf290>\n",
      "  File \"/home/bogul/scalarizing/.venv/lib/python3.10/site-packages/ipykernel/kernelbase.py\", line 730, in execute_request\n",
      "    reply_content = await reply_content\n",
      "                          └ <coroutine object IPythonKernel.do_execute at 0x2af47bdcf220>\n",
      "  File \"/home/bogul/scalarizing/.venv/lib/python3.10/site-packages/ipykernel/ipkernel.py\", line 383, in do_execute\n",
      "    res = shell.run_cell(\n",
      "          │     └ <function ZMQInteractiveShell.run_cell at 0x2af37588e710>\n",
      "          └ <ipykernel.zmqshell.ZMQInteractiveShell object at 0x2af3758d51e0>\n",
      "  File \"/home/bogul/scalarizing/.venv/lib/python3.10/site-packages/ipykernel/zmqshell.py\", line 528, in run_cell\n",
      "    return super().run_cell(*args, **kwargs)\n",
      "                             │       └ {'store_history': True, 'silent': False, 'cell_id': '7d5b1b2f-09c6-4d0d-97d2-eac99de13ffc'}\n",
      "                             └ (\"\\n%%time\\nrun_experiment(dataset, Box({**params, 'n_gen': 1}), EXPERIMENT_INSTANCE_ID, parallelization=ExecutorParallelizat...\n",
      "  File \"/home/bogul/scalarizing/.venv/lib/python3.10/site-packages/IPython/core/interactiveshell.py\", line 2940, in run_cell\n",
      "    result = self._run_cell(\n",
      "             │    └ <function InteractiveShell._run_cell at 0x2af3741149d0>\n",
      "             └ <ipykernel.zmqshell.ZMQInteractiveShell object at 0x2af3758d51e0>\n",
      "  File \"/home/bogul/scalarizing/.venv/lib/python3.10/site-packages/IPython/core/interactiveshell.py\", line 2995, in _run_cell\n",
      "    return runner(coro)\n",
      "           │      └ <coroutine object InteractiveShell.run_cell_async at 0x2af47bdcf680>\n",
      "           └ <function _pseudo_sync_runner at 0x2af37410c3a0>\n",
      "  File \"/home/bogul/scalarizing/.venv/lib/python3.10/site-packages/IPython/core/async_helpers.py\", line 129, in _pseudo_sync_runner\n",
      "    coro.send(None)\n",
      "    │    └ <method 'send' of 'coroutine' objects>\n",
      "    └ <coroutine object InteractiveShell.run_cell_async at 0x2af47bdcf680>\n",
      "  File \"/home/bogul/scalarizing/.venv/lib/python3.10/site-packages/IPython/core/interactiveshell.py\", line 3194, in run_cell_async\n",
      "    has_raised = await self.run_ast_nodes(code_ast.body, cell_name,\n",
      "                       │    │             │        │     └ '/home/bogul/tmp/ipykernel_48163/373664545.py'\n",
      "                       │    │             │        └ [<ast.Expr object at 0x2af375968370>]\n",
      "                       │    │             └ <ast.Module object at 0x2af47bcf70a0>\n",
      "                       │    └ <function InteractiveShell.run_ast_nodes at 0x2af374114ca0>\n",
      "                       └ <ipykernel.zmqshell.ZMQInteractiveShell object at 0x2af3758d51e0>\n",
      "  File \"/home/bogul/scalarizing/.venv/lib/python3.10/site-packages/IPython/core/interactiveshell.py\", line 3373, in run_ast_nodes\n",
      "    if await self.run_code(code, result, async_=asy):\n",
      "             │    │        │     │              └ False\n",
      "             │    │        │     └ <ExecutionResult object at 2af375969210, execution_count=27 error_before_exec=None error_in_exec=None info=<ExecutionInfo obj...\n",
      "             │    │        └ <code object <module> at 0x2af37591cc90, file \"/home/bogul/tmp/ipykernel_48163/373664545.py\", line 1>\n",
      "             │    └ <function InteractiveShell.run_code at 0x2af374114d30>\n",
      "             └ <ipykernel.zmqshell.ZMQInteractiveShell object at 0x2af3758d51e0>\n",
      "  File \"/home/bogul/scalarizing/.venv/lib/python3.10/site-packages/IPython/core/interactiveshell.py\", line 3433, in run_code\n",
      "    exec(code_obj, self.user_global_ns, self.user_ns)\n",
      "         │         │    │               │    └ {'__name__': '__main__', '__doc__': 'Automatically created module for IPython interactive environment', '__package__': None, ...\n",
      "         │         │    │               └ <ipykernel.zmqshell.ZMQInteractiveShell object at 0x2af3758d51e0>\n",
      "         │         │    └ <property object at 0x2af374105f30>\n",
      "         │         └ <ipykernel.zmqshell.ZMQInteractiveShell object at 0x2af3758d51e0>\n",
      "         └ <code object <module> at 0x2af37591cc90, file \"/home/bogul/tmp/ipykernel_48163/373664545.py\", line 1>\n",
      "\n",
      "  File \"/home/bogul/tmp/ipykernel_48163/373664545.py\", line 1, in <module>\n",
      "    get_ipython().run_cell_magic('time', '', \"run_experiment(dataset, Box({**params, 'n_gen': 1}), EXPERIMENT_INSTANCE_ID, parallelization=ExecutorParallelization(executor))\\n\")\n",
      "    └ <bound method InteractiveShell.get_ipython of <ipykernel.zmqshell.ZMQInteractiveShell object at 0x2af3758d51e0>>\n",
      "\n",
      "  File \"/home/bogul/scalarizing/.venv/lib/python3.10/site-packages/IPython/core/interactiveshell.py\", line 2417, in run_cell_magic\n",
      "    result = fn(*args, **kwargs)\n",
      "             │   │       └ {'local_ns': {'__name__': '__main__', '__doc__': 'Automatically created module for IPython interactive environment', '__packa...\n",
      "             │   └ ('', \"run_experiment(dataset, Box({**params, 'n_gen': 1}), EXPERIMENT_INSTANCE_ID, parallelization=ExecutorParallelization(ex...\n",
      "             └ <bound method ExecutionMagics.time of <IPython.core.magics.execution.ExecutionMagics object at 0x2af3758d6d10>>\n",
      "  File \"/home/bogul/scalarizing/.venv/lib/python3.10/site-packages/IPython/core/magics/execution.py\", line 1308, in time\n",
      "    out = eval(code, glob, local_ns)\n",
      "               │     │     └ {'__name__': '__main__', '__doc__': 'Automatically created module for IPython interactive environment', '__package__': None, ...\n",
      "               │     └ {'__name__': '__main__', '__doc__': 'Automatically created module for IPython interactive environment', '__package__': None, ...\n",
      "               └ <code object <module> at 0x2af47bd28b30, file \"<timed eval>\", line 1>\n",
      "  File \"<timed eval>\", line 1, in <module>\n",
      "\n",
      "> File \"/home/bogul/tmp/ipykernel_48163/1232592238.py\", line 14, in run_experiment\n",
      "    do_run_experiment(dataset, params, scoring_function=scoring_function, run_id=run_id, parallelization=parallelization)\n",
      "    │                 │        │                        │                        │                       └ <__main__.ExecutorParallelization object at 0x2af37591b010>\n",
      "    │                 │        │                        │                        └ 'fa1926761b4f47dbab4152a405a6df91'\n",
      "    │                 │        │                        └ <function default_scoring_function at 0x2af47b949ab0>\n",
      "    │                 │        └ <Box: {'bagging_size': 500, 'ensemble_size': 20, 'n_gen': 1, 'pop_size': 100, 'scoring_method': 'normal', 'dataset': 'nursery...\n",
      "    │                 └ <Box: {'train': {'x': array([[2, 3, 0, ..., 0, 0, 2],\n",
      "    │                          [2, 3, 0, ..., 0, 0, 0],\n",
      "    │                          [2, 3, 0, ..., 0, 1, 2],\n",
      "    │                          ...\n",
      "    └ <function do_run_experiment at 0x2af47bce75b0>\n",
      "\n",
      "  File \"/home/bogul/tmp/ipykernel_48163/469544269.py\", line 7, in do_run_experiment\n",
      "    result = minimize(problem,\n",
      "             │        └ <scalarizing.scalarizing.FindingBestExpressionSingleDatasetProblem object at 0x2af47bcf6320>\n",
      "             └ <function minimize at 0x2af4799c4940>\n",
      "\n",
      "  File \"/home/bogul/scalarizing/.venv/lib/python3.10/site-packages/pymoo/optimize.py\", line 67, in minimize\n",
      "    res = algorithm.run()\n",
      "          │         └ <function Algorithm.run at 0x2af479991870>\n",
      "          └ <pymoo.algorithms.soo.nonconvex.ga.GA object at 0x2af47c53c910>\n",
      "  File \"/home/bogul/scalarizing/.venv/lib/python3.10/site-packages/pymoo/core/algorithm.py\", line 141, in run\n",
      "    self.next()\n",
      "    │    └ <function Algorithm.next at 0x2af479991a20>\n",
      "    └ <pymoo.algorithms.soo.nonconvex.ga.GA object at 0x2af47c53c910>\n",
      "  File \"/home/bogul/scalarizing/.venv/lib/python3.10/site-packages/pymoo/core/algorithm.py\", line 161, in next\n",
      "    self.evaluator.eval(self.problem, infills, algorithm=self)\n",
      "    │    │         │    │    │        │                  └ <pymoo.algorithms.soo.nonconvex.ga.GA object at 0x2af47c53c910>\n",
      "    │    │         │    │    │        └ Population([<pymoo.core.individual.Individual object at 0x2af47c53cd90>,\n",
      "    │    │         │    │    │                      <pymoo.core.individual.Individual object...\n",
      "    │    │         │    │    └ <scalarizing.scalarizing.FindingBestExpressionSingleDatasetProblem object at 0x2af47bcf6320>\n",
      "    │    │         │    └ <pymoo.algorithms.soo.nonconvex.ga.GA object at 0x2af47c53c910>\n",
      "    │    │         └ <function Evaluator.eval at 0x2af47993a3b0>\n",
      "    │    └ <pymoo.core.evaluator.Evaluator object at 0x2af47c636830>\n",
      "    └ <pymoo.algorithms.soo.nonconvex.ga.GA object at 0x2af47c53c910>\n",
      "  File \"/home/bogul/scalarizing/.venv/lib/python3.10/site-packages/pymoo/core/evaluator.py\", line 69, in eval\n",
      "    self._eval(problem, pop[I], evaluate_values_of, **kwargs)\n",
      "    │    │     │        │   │   │                     └ {'algorithm': <pymoo.algorithms.soo.nonconvex.ga.GA object at 0x2af47c53c910>}\n",
      "    │    │     │        │   │   └ ['F', 'G', 'H']\n",
      "    │    │     │        │   └ [0, 1, 2, 3, 4, 5, 6, 7, 8, 9, 10, 11, 12, 13, 14, 15, 16, 17, 18, 19, 20, 21, 22, 23, 24, 25, 26, 27, 28, 29, 30, 31, 32, 33...\n",
      "    │    │     │        └ Population([<pymoo.core.individual.Individual object at 0x2af47c53cd90>,\n",
      "    │    │     │                      <pymoo.core.individual.Individual object...\n",
      "    │    │     └ <scalarizing.scalarizing.FindingBestExpressionSingleDatasetProblem object at 0x2af47bcf6320>\n",
      "    │    └ <function Evaluator._eval at 0x2af47993a440>\n",
      "    └ <pymoo.core.evaluator.Evaluator object at 0x2af47c636830>\n",
      "  File \"/home/bogul/scalarizing/.venv/lib/python3.10/site-packages/pymoo/core/evaluator.py\", line 90, in _eval\n",
      "    out = problem.evaluate(X, return_values_of=evaluate_values_of, return_as_dictionary=True, **kwargs)\n",
      "          │       │        │                   │                                                └ {'algorithm': <pymoo.algorithms.soo.nonconvex.ga.GA object at 0x2af47c53c910>}\n",
      "          │       │        │                   └ ['F', 'G', 'H']\n",
      "          │       │        └ array([[precision],\n",
      "          │       │                 [balanced_accuracy],\n",
      "          │       │                 [balanced_accuracy],\n",
      "          │       │                 [precision],\n",
      "          │       │                 [accuracy],\n",
      "          │       │                 [f1...\n",
      "          │       └ <function Problem.evaluate at 0x2af479939ab0>\n",
      "          └ <scalarizing.scalarizing.FindingBestExpressionSingleDatasetProblem object at 0x2af47bcf6320>\n",
      "  File \"/home/bogul/scalarizing/.venv/lib/python3.10/site-packages/pymoo/core/problem.py\", line 187, in evaluate\n",
      "    _out = self.do(X, return_values_of, *args, **kwargs)\n",
      "           │    │  │  │                  │       └ {'algorithm': <pymoo.algorithms.soo.nonconvex.ga.GA object at 0x2af47c53c910>}\n",
      "           │    │  │  │                  └ ()\n",
      "           │    │  │  └ ['F', 'G', 'H']\n",
      "           │    │  └ array([[precision],\n",
      "           │    │           [balanced_accuracy],\n",
      "           │    │           [balanced_accuracy],\n",
      "           │    │           [precision],\n",
      "           │    │           [accuracy],\n",
      "           │    │           [f1...\n",
      "           │    └ <function Problem.do at 0x2af479939b40>\n",
      "           └ <scalarizing.scalarizing.FindingBestExpressionSingleDatasetProblem object at 0x2af47bcf6320>\n",
      "  File \"/home/bogul/scalarizing/.venv/lib/python3.10/site-packages/pymoo/core/problem.py\", line 227, in do\n",
      "    self._evaluate_elementwise(X, out, *args, **kwargs)\n",
      "    │    │                     │  │     │       └ {'algorithm': <pymoo.algorithms.soo.nonconvex.ga.GA object at 0x2af47c53c910>}\n",
      "    │    │                     │  │     └ ()\n",
      "    │    │                     │  └ {'F': None, 'G': None, 'H': None}\n",
      "    │    │                     └ array([[precision],\n",
      "    │    │                              [balanced_accuracy],\n",
      "    │    │                              [balanced_accuracy],\n",
      "    │    │                              [precision],\n",
      "    │    │                              [accuracy],\n",
      "    │    │                              [f1...\n",
      "    │    └ <function Problem._evaluate_elementwise at 0x2af479939c60>\n",
      "    └ <scalarizing.scalarizing.FindingBestExpressionSingleDatasetProblem object at 0x2af47bcf6320>\n",
      "  File \"/home/bogul/scalarizing/.venv/lib/python3.10/site-packages/pymoo/core/problem.py\", line 245, in _evaluate_elementwise\n",
      "    elems = self.elementwise_runner(f, X)\n",
      "            │    │                  │  └ array([[precision],\n",
      "            │    │                  │           [balanced_accuracy],\n",
      "            │    │                  │           [balanced_accuracy],\n",
      "            │    │                  │           [precision],\n",
      "            │    │                  │           [accuracy],\n",
      "            │    │                  │           [f1...\n",
      "            │    │                  └ <pymoo.core.problem.ElementwiseEvaluationFunction object at 0x2af47c53e0b0>\n",
      "            │    └ <__main__.ExecutorParallelization object at 0x2af37591b010>\n",
      "            └ <scalarizing.scalarizing.FindingBestExpressionSingleDatasetProblem object at 0x2af47bcf6320>\n",
      "\n",
      "  File \"/home/bogul/tmp/ipykernel_48163/1037740037.py\", line 9, in __call__\n",
      "    return [job.result() for job in jobs]\n",
      "                                    └ [<Future at 0x2af47c53e1d0 state=finished raised ValueError>, <Future at 0x2af47c53e830 state=finished raised ValueError>, <F...\n",
      "\n",
      "  File \"/home/bogul/tmp/ipykernel_48163/1037740037.py\", line 9, in <listcomp>\n",
      "    return [job.result() for job in jobs]\n",
      "            │   │            └ <Future at 0x2af47c53e1d0 state=finished raised ValueError>\n",
      "            │   └ <function Future.result at 0x2af372b07880>\n",
      "            └ <Future at 0x2af47c53e1d0 state=finished raised ValueError>\n",
      "\n",
      "  File \"/home/bogul/mambaforge/lib/python3.10/concurrent/futures/_base.py\", line 458, in result\n",
      "    return self.__get_result()\n",
      "           └ None\n",
      "  File \"/home/bogul/mambaforge/lib/python3.10/concurrent/futures/_base.py\", line 403, in __get_result\n",
      "    raise self._exception\n",
      "          └ None\n",
      "\n",
      "ValueError: y contains previously unseen labels: [2]\n",
      "CPU times: user 8.21 s, sys: 218 ms, total: 8.43 s\n",
      "Wall time: 13.2 s\n"
     ]
    }
   ],
   "source": [
    "\n",
    "%%time\n",
    "run_experiment(dataset, Box({**params, 'n_gen': 1}), EXPERIMENT_INSTANCE_ID, parallelization=ExecutorParallelization(executor))\n"
   ]
  }
 ],
 "metadata": {
  "kernelspec": {
   "display_name": "Python 3 (ipykernel)",
   "language": "python",
   "name": "python3"
  },
  "language_info": {
   "codemirror_mode": {
    "name": "ipython",
    "version": 3
   },
   "file_extension": ".py",
   "mimetype": "text/x-python",
   "name": "python",
   "nbconvert_exporter": "python",
   "pygments_lexer": "ipython3",
   "version": "3.10.6"
  }
 },
 "nbformat": 4,
 "nbformat_minor": 4
}
