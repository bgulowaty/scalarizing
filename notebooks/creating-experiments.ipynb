{
 "cells": [
  {
   "cell_type": "code",
   "execution_count": null,
   "id": "a00ca21c-4f76-42d7-b087-39e1b213818f",
   "metadata": {},
   "outputs": [],
   "source": [
    "import mlflow\n",
    "from sklearn.model_selection import ParameterGrid\n",
    "from mlflow import MlflowClient\n",
    "from pathlib import Path\n",
    "import pandas as pd\n",
    "import tempfile\n",
    "from glob import glob"
   ]
  },
  {
   "cell_type": "code",
   "execution_count": null,
   "id": "f8b0ec3e-3b6a-452b-8262-4b581b2f37bf",
   "metadata": {},
   "outputs": [],
   "source": [
    "PROJECT_ROOT = Path.cwd().parents[0]\n",
    "NOTEBOOKS_ROOT = PROJECT_ROOT / \"notebooks\"\n",
    "PAPERMILL_PATH = PROJECT_ROOT/ \".venv\" / \"bin\" / \"papermill\""
   ]
  },
  {
   "cell_type": "code",
   "execution_count": null,
   "id": "e37be1bb-d8c2-40c5-834a-d0ea7834a5fa",
   "metadata": {},
   "outputs": [],
   "source": [
    "mlflow.create_experiment('des-base')"
   ]
  },
  {
   "cell_type": "code",
   "execution_count": null,
   "id": "41236c57-8de5-489d-9d4a-64ed3c24c95a",
   "metadata": {},
   "outputs": [],
   "source": [
    "all_processed_data_files = glob(f\"{DATASETS_DIR}/*\")\n",
    "all_file_names = [\n",
    "    file.split('/')[-1].split('train')[0].rstrip('-') for file in all_processed_data_files if 'train' in file\n",
    "]\n",
    "print(all_file_names[:5])"
   ]
  },
  {
   "cell_type": "code",
   "execution_count": null,
   "id": "4c7632a1-e762-4c9c-b9fd-c59c335f93e7",
   "metadata": {},
   "outputs": [],
   "source": [
    "train_and_test_paths = [\n",
    "    {\n",
    "        'train': path,\n",
    "        'test': path.replace('train', 'test')\n",
    "    } for path in all_processed_data_files if 'train' in path\n",
    "]\n",
    "print(train_and_test_paths[:2])"
   ]
  },
  {
   "cell_type": "code",
   "execution_count": null,
   "id": "7daa55c4-b7d0-4bc7-a8e8-793b43457e9a",
   "metadata": {},
   "outputs": [],
   "source": [
    "base_params = ParameterGrid({\n",
    "    \"train_path\": [path for path in all_processed_data_files if 'train' in path],\n",
    "    \"bagging_size\": [50, 100, 200, 500],\n",
    "})"
   ]
  },
  {
   "cell_type": "code",
   "execution_count": null,
   "id": "1e8a4d89-424c-4901-ac06-380d353cbc58",
   "metadata": {},
   "outputs": [],
   "source": [
    "params = ParameterGrid({\n",
    "    \"ensemble_size\": [5, 10, 20],\n",
    "    \"train_path\": [path for path in all_processed_data_files if 'train' in path],\n",
    "    \"bagging_size\": [50, 100, 200, 500],\n",
    "    \"pop_size\": [100],\n",
    "    \"n_gen\": [100],\n",
    "    \"scoring_method\": ['normal', 'diversity']\n",
    "})"
   ]
  },
  {
   "cell_type": "code",
   "execution_count": null,
   "id": "172d7823-a0bc-42ff-9957-cf5e29330534",
   "metadata": {},
   "outputs": [],
   "source": [
    "client = MlflowClient()"
   ]
  },
  {
   "cell_type": "code",
   "execution_count": null,
   "id": "f7206e73-01cb-480c-8934-426cf8dc3bc5",
   "metadata": {},
   "outputs": [],
   "source": [
    "for param_set in base_params:\n",
    "    run = client.create_run('2')\n",
    "    for param, value in param_set.items():\n",
    "        client.log_param(run_id=run.info.run_id, key=param, value=value)"
   ]
  }
 ],
 "metadata": {
  "kernelspec": {
   "display_name": "Python 3 (ipykernel)",
   "language": "python",
   "name": "python3"
  },
  "language_info": {
   "codemirror_mode": {
    "name": "ipython",
    "version": 3
   },
   "file_extension": ".py",
   "mimetype": "text/x-python",
   "name": "python",
   "nbconvert_exporter": "python",
   "pygments_lexer": "ipython3",
   "version": "3.10.6"
  }
 },
 "nbformat": 4,
 "nbformat_minor": 5
}
