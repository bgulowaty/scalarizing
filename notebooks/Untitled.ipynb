{
 "cells": [
  {
   "cell_type": "code",
   "execution_count": 2,
   "id": "9958950a",
   "metadata": {
    "collapsed": false,
    "pycharm": {
     "name": "#%%\n"
    }
   },
   "outputs": [
    {
     "name": "stdout",
     "output_type": "stream",
     "text": [
      "(0, 'bc')\n",
      "(1, 'bc')\n",
      "(2, 'bc')\n"
     ]
    }
   ],
   "source": [
    "def some_gen():\n",
    "    for i in range(3):\n",
    "        yield i, \"bc\"\n",
    "\n",
    "\n",
    "\n",
    "for a in some_gen():\n",
    "    print(a)"
   ]
  },
  {
   "cell_type": "code",
   "execution_count": 61,
   "id": "dc932437",
   "metadata": {
    "collapsed": false,
    "pycharm": {
     "name": "#%%\n"
    }
   },
   "outputs": [
    {
     "data": {
      "text/plain": [
       "array([[5, 5],\n",
       "       [7, 7]])"
      ]
     },
     "execution_count": 61,
     "metadata": {},
     "output_type": "execute_result"
    }
   ],
   "source": [
    "a = [[], []]\n",
    "\n",
    "a[0].append([5, 5])\n",
    "a[0].append([7, 7])\n",
    "a[1].append([10, 10])\n",
    "\n",
    "a[1].append([111, 111])\n",
    "\n",
    "import numpy as np\n",
    "np.asarray(a)[0, [0,1]]"
   ]
  },
  {
   "cell_type": "code",
   "execution_count": 51,
   "id": "06c4cfc3",
   "metadata": {
    "collapsed": false,
    "pycharm": {
     "name": "#%%\n"
    }
   },
   "outputs": [
    {
     "data": {
      "text/plain": [
       "array([[[  5,   5],\n",
       "        [  7,   7]],\n",
       "\n",
       "       [[ 10,  10],\n",
       "        [111, 111]]])"
      ]
     },
     "execution_count": 51,
     "metadata": {},
     "output_type": "execute_result"
    }
   ],
   "source": [
    "np.asarray(a)"
   ]
  },
  {
   "cell_type": "code",
   "execution_count": 1,
   "id": "8d32ec0a-9f70-4cab-bdda-6ff4ce856cd3",
   "metadata": {
    "pycharm": {
     "name": "#%%\n"
    }
   },
   "outputs": [
    {
     "name": "stderr",
     "output_type": "stream",
     "text": [
      "/home/bogdan/Projects/rules-embedding-forest-reduction/experiments/scalarizing/.venv/lib/python3.8/site-packages/tqdm/auto.py:22: TqdmWarning: IProgress not found. Please update jupyter and ipywidgets. See https://ipywidgets.readthedocs.io/en/stable/user_install.html\n",
      "  from .autonotebook import tqdm as notebook_tqdm\n"
     ]
    }
   ],
   "source": [
    "import datasets"
   ]
  },
  {
   "cell_type": "code",
   "execution_count": null,
   "id": "ec3a1963-cadd-4abe-898a-2eced2a67cb4",
   "metadata": {
    "pycharm": {
     "name": "#%%\n"
    }
   },
   "outputs": [],
   "source": []
  },
  {
   "cell_type": "code",
   "execution_count": 12,
   "id": "1b96d7bf-5a78-490d-b62b-99ae250bceb6",
   "metadata": {
    "pycharm": {
     "name": "#%%\n"
    }
   },
   "outputs": [
    {
     "name": "stderr",
     "output_type": "stream",
     "text": [
      "Using custom data configuration scikit-learn--iris-4e13227f45447466\n",
      "Found cached dataset csv (/home/bogdan/.cache/huggingface/datasets/scikit-learn___csv/scikit-learn--iris-4e13227f45447466/0.0.0/6b34fb8fcf56f7c8ba51dc895bfa2bfbe43546f190a60fcf74bb5e8afdcc2317)\n",
      "100%|███████████████| 1/1 [00:00<00:00, 759.29it/s]\n"
     ]
    }
   ],
   "source": [
    "iris = datasets.load_dataset('scikit-learn/iris')"
   ]
  },
  {
   "cell_type": "code",
   "execution_count": 21,
   "id": "56805286-5689-406d-9d2b-d94f034f511e",
   "metadata": {
    "pycharm": {
     "name": "#%%\n"
    }
   },
   "outputs": [
    {
     "data": {
      "text/plain": [
       "Dataset({\n",
       "    features: ['Id', 'SepalLengthCm', 'SepalWidthCm', 'PetalLengthCm', 'PetalWidthCm', 'Species'],\n",
       "    num_rows: 120\n",
       "})"
      ]
     },
     "execution_count": 26,
     "metadata": {},
     "output_type": "execute_result"
    }
   ],
   "source": [
    "iris['train'].(test_size=0.2, shuffle=True)"
   ]
  }
 ],
 "metadata": {
  "kernelspec": {
   "display_name": "Python 3 (ipykernel)",
   "language": "python",
   "name": "python3"
  },
  "language_info": {
   "codemirror_mode": {
    "name": "ipython",
    "version": 3
   },
   "file_extension": ".py",
   "mimetype": "text/x-python",
   "name": "python",
   "nbconvert_exporter": "python",
   "pygments_lexer": "ipython3",
   "version": "3.10.6"
  }
 },
 "nbformat": 4,
 "nbformat_minor": 5
}