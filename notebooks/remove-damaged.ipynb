{
 "cells": [
  {
   "cell_type": "markdown",
   "id": "1deb9dc3-2414-4b95-aa72-867c20f21ed5",
   "metadata": {},
   "source": [
    "# Remove damaged experiments"
   ]
  },
  {
   "cell_type": "code",
   "execution_count": 4,
   "id": "1dbdae94-cd05-42bd-8053-8237c85f1144",
   "metadata": {},
   "outputs": [],
   "source": [
    "from glob import glob\n",
    "import os\n",
    "import shutil"
   ]
  },
  {
   "cell_type": "code",
   "execution_count": 2,
   "id": "087c3d23-a290-4c10-bba9-cf6c3d38403c",
   "metadata": {},
   "outputs": [],
   "source": [
    "meta_file_paths = glob(\"mlruns/1/*/meta.yaml\")"
   ]
  },
  {
   "cell_type": "code",
   "execution_count": 5,
   "id": "de2681c0-eac5-4ba5-aa6d-70233dda5f0e",
   "metadata": {},
   "outputs": [
    {
     "name": "stdout",
     "output_type": "stream",
     "text": [
      "mlruns/1/1979d13c6d3f410088ef38c268a9e00f/meta.yaml size = 0\n",
      "Removing mlruns/1/1979d13c6d3f410088ef38c268a9e00f\n",
      "mlruns/1/b28aba4b91504c54b86508f1df6b36c8/meta.yaml size = 0\n",
      "Removing mlruns/1/b28aba4b91504c54b86508f1df6b36c8\n",
      "mlruns/1/262d8d6e1e454882a9e77cf8212699ce/meta.yaml size = 0\n",
      "Removing mlruns/1/262d8d6e1e454882a9e77cf8212699ce\n",
      "mlruns/1/8069b41af61843ccbeeb44c09fd7504f/meta.yaml size = 0\n",
      "Removing mlruns/1/8069b41af61843ccbeeb44c09fd7504f\n",
      "mlruns/1/84175de464c94b90a2fb30383fe738a4/meta.yaml size = 0\n",
      "Removing mlruns/1/84175de464c94b90a2fb30383fe738a4\n",
      "mlruns/1/c8fc4a38a7b94f86a9923d8ecbb58e1a/meta.yaml size = 0\n",
      "Removing mlruns/1/c8fc4a38a7b94f86a9923d8ecbb58e1a\n",
      "mlruns/1/0bde3b97c9b144c5aba65c365cf10997/meta.yaml size = 0\n",
      "Removing mlruns/1/0bde3b97c9b144c5aba65c365cf10997\n",
      "mlruns/1/4db29017ae76408ea31c9da9dcd75f3e/meta.yaml size = 0\n",
      "Removing mlruns/1/4db29017ae76408ea31c9da9dcd75f3e\n",
      "mlruns/1/36bd515226524e21b6142bed02f22e12/meta.yaml size = 0\n",
      "Removing mlruns/1/36bd515226524e21b6142bed02f22e12\n",
      "mlruns/1/c62aac8eda63419d937ca26500031843/meta.yaml size = 0\n",
      "Removing mlruns/1/c62aac8eda63419d937ca26500031843\n",
      "mlruns/1/c578c52aebfb46d2ade4cc04945bfd98/meta.yaml size = 0\n",
      "Removing mlruns/1/c578c52aebfb46d2ade4cc04945bfd98\n",
      "mlruns/1/c13caa4a932f48ccb81116058fa1f9d5/meta.yaml size = 0\n",
      "Removing mlruns/1/c13caa4a932f48ccb81116058fa1f9d5\n",
      "mlruns/1/0da81e8d662f41caa6d7c9886691ecfd/meta.yaml size = 0\n",
      "Removing mlruns/1/0da81e8d662f41caa6d7c9886691ecfd\n",
      "mlruns/1/d91afa58a2584a3892b35fccffa485b9/meta.yaml size = 0\n",
      "Removing mlruns/1/d91afa58a2584a3892b35fccffa485b9\n",
      "mlruns/1/d2e4d1bc8b354393a5b39b7b4ebe2626/meta.yaml size = 0\n",
      "Removing mlruns/1/d2e4d1bc8b354393a5b39b7b4ebe2626\n",
      "mlruns/1/5088709dacc345a38eacbc0c641bf7ca/meta.yaml size = 0\n",
      "Removing mlruns/1/5088709dacc345a38eacbc0c641bf7ca\n",
      "mlruns/1/261a2f14f32f48679242d3183c6d060c/meta.yaml size = 0\n",
      "Removing mlruns/1/261a2f14f32f48679242d3183c6d060c\n",
      "mlruns/1/279a8780485242d68a8c775b9691c12b/meta.yaml size = 0\n",
      "Removing mlruns/1/279a8780485242d68a8c775b9691c12b\n"
     ]
    }
   ],
   "source": [
    "for path in meta_file_paths:\n",
    "    if os.path.getsize(path) == 0:\n",
    "        print(f\"{path} size = 0\")\n",
    "        experiment_run_id = path.split('/')[-2]\n",
    "        experiment_path = path.replace('/meta.yaml', '')\n",
    "        print(f\"Removing {experiment_path}\")\n",
    "        shutil.rmtree(experiment_path)"
   ]
  }
 ],
 "metadata": {
  "kernelspec": {
   "display_name": "Python 3 (ipykernel)",
   "language": "python",
   "name": "python3"
  },
  "language_info": {
   "codemirror_mode": {
    "name": "ipython",
    "version": 3
   },
   "file_extension": ".py",
   "mimetype": "text/x-python",
   "name": "python",
   "nbconvert_exporter": "python",
   "pygments_lexer": "ipython3",
   "version": "3.10.6"
  }
 },
 "nbformat": 4,
 "nbformat_minor": 5
}
