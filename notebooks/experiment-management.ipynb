{
 "cells": [
  {
   "cell_type": "code",
   "execution_count": 1,
   "metadata": {
    "collapsed": true,
    "ExecuteTime": {
     "end_time": "2023-05-31T20:07:54.000062711Z",
     "start_time": "2023-05-31T20:07:49.166144564Z"
    }
   },
   "outputs": [
    {
     "name": "stderr",
     "output_type": "stream",
     "text": [
      "/home/bogdan/Projects/scalarizing/.venv/lib/python3.10/site-packages/tqdm/auto.py:21: TqdmWarning: IProgress not found. Please update jupyter and ipywidgets. See https://ipywidgets.readthedocs.io/en/stable/user_install.html\n",
      "  from .autonotebook import tqdm as notebook_tqdm\n"
     ]
    }
   ],
   "source": [
    "%run ./0623-experiment-notebook.ipynb"
   ]
  },
  {
   "cell_type": "code",
   "execution_count": 6,
   "outputs": [],
   "source": [
    "from mlutils.mlflow.utils import create_runs_for_params, get_unfinished_run_ids, get_runs, get_unfinished_runs, get_run_params, experiment_name_to_id\n",
    "from glob import glob\n",
    "from mlutils.distributedcomputing.experiments import run_experiments\n",
    "from sklearn.model_selection import ParameterGrid"
   ],
   "metadata": {
    "collapsed": false,
    "ExecuteTime": {
     "end_time": "2023-05-31T20:09:05.401571386Z",
     "start_time": "2023-05-31T20:09:05.359049617Z"
    }
   }
  },
  {
   "cell_type": "code",
   "execution_count": 4,
   "outputs": [
    {
     "name": "stdout",
     "output_type": "stream",
     "text": [
      "['pima-5-5tra.csv', 'vowel-5-3tra.csv', 'pima-5-4tra.csv', 'vowel-5-4tra.csv', 'balance-5-2tra.csv']\n"
     ]
    }
   ],
   "source": [
    "all_processed_data_files = glob(f\"../../datasets/notebooks/processed/*.csv\")\n",
    "\n",
    "all_file_names = [\n",
    "    file.split('/')[-1].split('train')[0].rstrip('-') for file in all_processed_data_files if 'tra.csv' in file\n",
    "]\n",
    "print(all_file_names[:5])"
   ],
   "metadata": {
    "collapsed": false,
    "ExecuteTime": {
     "end_time": "2023-05-31T20:08:14.404976610Z",
     "start_time": "2023-05-31T20:08:14.315576536Z"
    }
   }
  },
  {
   "cell_type": "code",
   "execution_count": 5,
   "outputs": [],
   "source": [
    "train_file_paths = [it for it in all_processed_data_files if 'tra.csv' in it]\n",
    "dataset_names = {path.split('/')[-1].split('-')[0] for path in train_file_paths}\n",
    "selected_datasets = []\n",
    "for name in dataset_names:\n",
    "    selected_datasets.append([p for p in train_file_paths if name in p][0])"
   ],
   "metadata": {
    "collapsed": false,
    "ExecuteTime": {
     "end_time": "2023-05-31T20:08:20.828588623Z",
     "start_time": "2023-05-31T20:08:20.764902981Z"
    }
   }
  },
  {
   "cell_type": "code",
   "execution_count": 7,
   "outputs": [],
   "source": [
    "params_v1 = ParameterGrid({\n",
    "    'pop_size': [500],\n",
    "    'n_gen': [500],\n",
    "    'ensemble_size': [50, 100, 200],\n",
    "    'final_ensemble_size': [10, 30, 50, 100],\n",
    "    'train_path': train_file_paths\n",
    "})"
   ],
   "metadata": {
    "collapsed": false,
    "ExecuteTime": {
     "end_time": "2023-05-31T20:17:41.122659437Z",
     "start_time": "2023-05-31T20:17:41.077206162Z"
    }
   }
  },
  {
   "cell_type": "code",
   "execution_count": 8,
   "outputs": [
    {
     "name": "stderr",
     "output_type": "stream",
     "text": [
      "2023-05-31 22:18:01.516 | INFO     | mlutils.mlflow.utils:create_runs_for_params:31 - Experiment not found, creating new. Id=857622507229980405\n",
      "100%|██████████| 1200/1200 [00:28<00:00, 41.87it/s]\n"
     ]
    }
   ],
   "source": [
    "experiment_scalarizing = create_runs_for_params(params_v1, experiment_name='v1')"
   ],
   "metadata": {
    "collapsed": false
   }
  },
  {
   "cell_type": "code",
   "execution_count": 10,
   "outputs": [
    {
     "data": {
      "text/plain": "'24476cb45cf64cb29ca8211eeb407de9'"
     },
     "execution_count": 10,
     "metadata": {},
     "output_type": "execute_result"
    }
   ],
   "source": [
    "experiment_scalarizing[0]"
   ],
   "metadata": {
    "collapsed": false,
    "ExecuteTime": {
     "end_time": "2023-05-31T20:18:45.953502856Z",
     "start_time": "2023-05-31T20:18:45.908656264Z"
    }
   }
  }
 ],
 "metadata": {
  "kernelspec": {
   "display_name": "Python 3",
   "language": "python",
   "name": "python3"
  },
  "language_info": {
   "codemirror_mode": {
    "name": "ipython",
    "version": 2
   },
   "file_extension": ".py",
   "mimetype": "text/x-python",
   "name": "python",
   "nbconvert_exporter": "python",
   "pygments_lexer": "ipython2",
   "version": "2.7.6"
  }
 },
 "nbformat": 4,
 "nbformat_minor": 0
}
