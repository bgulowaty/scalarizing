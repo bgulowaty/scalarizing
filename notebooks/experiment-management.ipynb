{
 "cells": [
  {
   "cell_type": "code",
   "execution_count": 3,
   "metadata": {
    "collapsed": true,
    "ExecuteTime": {
     "end_time": "2023-08-16T15:52:07.668426Z",
     "start_time": "2023-08-16T15:52:07.110454Z"
    }
   },
   "outputs": [
    {
     "name": "stderr",
     "output_type": "stream",
     "text": [
      "/Users/bgulowaty/studia/projekty/scalarizing/.venv/lib/python3.8/site-packages/tqdm/auto.py:21: TqdmWarning: IProgress not found. Please update jupyter and ipywidgets. See https://ipywidgets.readthedocs.io/en/stable/user_install.html\n",
      "  from .autonotebook import tqdm as notebook_tqdm\n",
      "2023-08-16 17:52:07,375\tINFO util.py:159 -- Missing packages: ['ipywidgets']. Run `pip install -U ipywidgets`, then restart the notebook server for rich notebook output.\n"
     ]
    }
   ],
   "source": [
    "%run ./0623-experiment-notebook.ipynb"
   ]
  },
  {
   "cell_type": "code",
   "execution_count": 2,
   "outputs": [],
   "source": [
    "from mlutils.mlflow.utils import create_runs_for_params, get_unfinished_run_ids, get_runs, get_unfinished_runs, get_run_params, experiment_name_to_id\n",
    "from glob import glob\n",
    "from mlutils.distributedcomputing.experiments import run_experiments\n",
    "from sklearn.model_selection import ParameterGrid"
   ],
   "metadata": {
    "collapsed": false,
    "ExecuteTime": {
     "end_time": "2023-08-16T15:52:06.780577Z",
     "start_time": "2023-08-16T15:52:05.612136Z"
    }
   }
  },
  {
   "cell_type": "code",
   "execution_count": 4,
   "outputs": [
    {
     "name": "stdout",
     "output_type": "stream",
     "text": [
      "['shuttle-5-5tra.csv', 'pima-5-5tra.csv', 'wisconsin-5-4tra.csv', 'automobile-5-2tra.csv', 'spambase-5-1tra.csv']\n"
     ]
    }
   ],
   "source": [
    "all_processed_data_files = glob(f\"../../datasets/notebooks/processed/*.csv\")\n",
    "\n",
    "all_file_names = [\n",
    "    file.split('/')[-1].split('train')[0].rstrip('-') for file in all_processed_data_files if 'tra.csv' in file\n",
    "]\n",
    "print(all_file_names[:5])"
   ],
   "metadata": {
    "collapsed": false,
    "ExecuteTime": {
     "end_time": "2023-08-16T15:52:08.774700Z",
     "start_time": "2023-08-16T15:52:08.737449Z"
    }
   }
  },
  {
   "cell_type": "code",
   "execution_count": 5,
   "outputs": [],
   "source": [
    "train_file_paths = [it for it in all_processed_data_files if 'tra.csv' in it]\n",
    "dataset_names = {path.split('/')[-1].split('-')[0] for path in train_file_paths}\n",
    "selected_datasets = []\n",
    "for name in dataset_names:\n",
    "    selected_datasets.append([p for p in train_file_paths if name in p][0])"
   ],
   "metadata": {
    "collapsed": false,
    "ExecuteTime": {
     "end_time": "2023-08-16T15:52:10.008001Z",
     "start_time": "2023-08-16T15:52:09.978359Z"
    }
   }
  },
  {
   "cell_type": "code",
   "execution_count": 6,
   "outputs": [],
   "source": [
    "params_test = ParameterGrid({\n",
    "    'pop_size': [5],\n",
    "    'n_gen': [25],\n",
    "    'ensemble_size': [50, 100],\n",
    "    'final_ensemble_size': [5, 10, 30],\n",
    "    'train_path': train_file_paths\n",
    "})"
   ],
   "metadata": {
    "collapsed": false,
    "ExecuteTime": {
     "end_time": "2023-08-16T15:52:11.375428Z",
     "start_time": "2023-08-16T15:52:11.347217Z"
    }
   }
  },
  {
   "cell_type": "code",
   "execution_count": 7,
   "outputs": [
    {
     "name": "stderr",
     "output_type": "stream",
     "text": [
      "2023-08-16 17:52:16.697 | INFO     | mlutils.mlflow.utils:create_runs_for_params:31 - Experiment not found, creating new. Id=447219576146047241\n",
      "100%|██████████| 600/600 [00:02<00:00, 211.30it/s]\n"
     ]
    }
   ],
   "source": [
    "params_test_ids = create_runs_for_params(params_test, experiment_name='v2-withCache')"
   ],
   "metadata": {
    "collapsed": false,
    "ExecuteTime": {
     "end_time": "2023-08-16T15:52:20.032253Z",
     "start_time": "2023-08-16T15:52:16.622557Z"
    }
   }
  },
  {
   "cell_type": "code",
   "execution_count": 8,
   "outputs": [],
   "source": [
    "the_experiment = get_runs(experiment_name_to_id('v2-withCache'))"
   ],
   "metadata": {
    "collapsed": false,
    "ExecuteTime": {
     "end_time": "2023-08-16T15:52:23.558190Z",
     "start_time": "2023-08-16T15:52:22.597342Z"
    }
   }
  },
  {
   "cell_type": "code",
   "execution_count": 23,
   "outputs": [
    {
     "data": {
      "text/plain": "                               run_id       experiment_id    status   \n598  55f96ab062e543d79746aecbb6fa540f  386990130301449091  FINISHED  \\\n\n                                          artifact_uri   \n598  file:///Users/bgulowaty/studia/projekty/scalar...  \\\n\n                          start_time                         end_time   \n598 2023-08-15 19:28:07.057000+00:00 2023-08-16 00:27:41.565000+00:00  \\\n\n     metrics.accuracy                                  params.train_path   \n598          0.027926  ../../datasets/notebooks/processed/wine-5-2tra...  \\\n\n    params.n_gen params.ensemble_size params.pop_size   \n598          100                   50             100  \\\n\n    params.final_ensemble_size tags.mlflow.runName  \n598                          5      rogue-newt-318  ",
      "text/html": "<div>\n<style scoped>\n    .dataframe tbody tr th:only-of-type {\n        vertical-align: middle;\n    }\n\n    .dataframe tbody tr th {\n        vertical-align: top;\n    }\n\n    .dataframe thead th {\n        text-align: right;\n    }\n</style>\n<table border=\"1\" class=\"dataframe\">\n  <thead>\n    <tr style=\"text-align: right;\">\n      <th></th>\n      <th>run_id</th>\n      <th>experiment_id</th>\n      <th>status</th>\n      <th>artifact_uri</th>\n      <th>start_time</th>\n      <th>end_time</th>\n      <th>metrics.accuracy</th>\n      <th>params.train_path</th>\n      <th>params.n_gen</th>\n      <th>params.ensemble_size</th>\n      <th>params.pop_size</th>\n      <th>params.final_ensemble_size</th>\n      <th>tags.mlflow.runName</th>\n    </tr>\n  </thead>\n  <tbody>\n    <tr>\n      <th>598</th>\n      <td>55f96ab062e543d79746aecbb6fa540f</td>\n      <td>386990130301449091</td>\n      <td>FINISHED</td>\n      <td>file:///Users/bgulowaty/studia/projekty/scalar...</td>\n      <td>2023-08-15 19:28:07.057000+00:00</td>\n      <td>2023-08-16 00:27:41.565000+00:00</td>\n      <td>0.027926</td>\n      <td>../../datasets/notebooks/processed/wine-5-2tra...</td>\n      <td>100</td>\n      <td>50</td>\n      <td>100</td>\n      <td>5</td>\n      <td>rogue-newt-318</td>\n    </tr>\n  </tbody>\n</table>\n</div>"
     },
     "execution_count": 23,
     "metadata": {},
     "output_type": "execute_result"
    }
   ],
   "source": [
    "the_experiment.query(\"status != 'RUNNING'\")"
   ],
   "metadata": {
    "collapsed": false,
    "ExecuteTime": {
     "end_time": "2023-08-16T05:18:03.662595Z",
     "start_time": "2023-08-16T05:18:03.606262Z"
    }
   }
  },
  {
   "cell_type": "code",
   "execution_count": 9,
   "outputs": [],
   "source": [
    "unfinished_run_ids = get_unfinished_run_ids(experiment_name_to_id(\"v2-withCache\"))"
   ],
   "metadata": {
    "collapsed": false,
    "ExecuteTime": {
     "end_time": "2023-08-16T15:52:29.847876Z",
     "start_time": "2023-08-16T15:52:28.900566Z"
    }
   }
  },
  {
   "cell_type": "code",
   "execution_count": 10,
   "outputs": [
    {
     "data": {
      "text/plain": "['0dab767811fe4e61af211b43731ec32d',\n '4993548b62684dbb91291b24099607fe',\n '51da72e2ecd248069d08b7cf914b48b6']"
     },
     "execution_count": 10,
     "metadata": {},
     "output_type": "execute_result"
    }
   ],
   "source": [
    "unfinished_run_ids[:3]"
   ],
   "metadata": {
    "collapsed": false,
    "ExecuteTime": {
     "end_time": "2023-08-16T15:52:31.202541Z",
     "start_time": "2023-08-16T15:52:31.163022Z"
    }
   }
  },
  {
   "cell_type": "code",
   "execution_count": null,
   "outputs": [
    {
     "name": "stderr",
     "output_type": "stream",
     "text": [
      "2023-08-16 08:01:35.772 | INFO     | mlutils.distributedcomputing.experiments:run_experiments:11 - {}\n",
      "2023-08-16 08:01:35.780 | INFO     | __main__:do_experiment:4 - {'train_path': '../../datasets/notebooks/processed/banana-5-3tra.csv', 'final_ensemble_size': '30', 'n_gen': '100', 'pop_size': '100', 'ensemble_size': '100'}\n",
      "/Users/bgulowaty/studia/projekty/scalarizing/.venv/lib/python3.8/site-packages/sklearn/ensemble/_base.py:156: FutureWarning: `base_estimator` was renamed to `estimator` in version 1.2 and will be removed in 1.4.\n",
      "  warnings.warn(\n",
      "/Users/bgulowaty/studia/projekty/scalarizing/.venv/lib/python3.8/site-packages/mlxtend/classifier/ensemble_vote.py:173: UserWarning: fit_base_estimators=False enforces use_clones to be `False`\n",
      "  warnings.warn(\n",
      "/Users/bgulowaty/studia/projekty/scalarizing/.venv/lib/python3.8/site-packages/mlxtend/classifier/ensemble_vote.py:173: UserWarning: fit_base_estimators=False enforces use_clones to be `False`\n",
      "  warnings.warn(\n",
      "/Users/bgulowaty/studia/projekty/scalarizing/.venv/lib/python3.8/site-packages/mlxtend/classifier/ensemble_vote.py:173: UserWarning: fit_base_estimators=False enforces use_clones to be `False`\n",
      "  warnings.warn(\n",
      "/Users/bgulowaty/studia/projekty/scalarizing/.venv/lib/python3.8/site-packages/mlxtend/classifier/ensemble_vote.py:173: UserWarning: fit_base_estimators=False enforces use_clones to be `False`\n",
      "  warnings.warn(\n",
      "/Users/bgulowaty/studia/projekty/scalarizing/.venv/lib/python3.8/site-packages/mlxtend/classifier/ensemble_vote.py:173: UserWarning: fit_base_estimators=False enforces use_clones to be `False`\n",
      "  warnings.warn(\n",
      "/Users/bgulowaty/studia/projekty/scalarizing/.venv/lib/python3.8/site-packages/mlxtend/classifier/ensemble_vote.py:173: UserWarning: fit_base_estimators=False enforces use_clones to be `False`\n",
      "  warnings.warn(\n",
      "/Users/bgulowaty/studia/projekty/scalarizing/.venv/lib/python3.8/site-packages/mlxtend/classifier/ensemble_vote.py:173: UserWarning: fit_base_estimators=False enforces use_clones to be `False`\n",
      "  warnings.warn(\n",
      "/Users/bgulowaty/studia/projekty/scalarizing/.venv/lib/python3.8/site-packages/mlxtend/classifier/ensemble_vote.py:173: UserWarning: fit_base_estimators=False enforces use_clones to be `False`\n",
      "  warnings.warn(\n"
     ]
    }
   ],
   "source": [
    "%%prun -s cumulative\n",
    "run_experiments(unfinished_run_ids[:3], do_experiment, backend='plain')"
   ],
   "metadata": {
    "collapsed": false,
    "ExecuteTime": {
     "start_time": "2023-08-16T06:01:35.743894Z"
    }
   }
  },
  {
   "cell_type": "code",
   "execution_count": null,
   "outputs": [
    {
     "name": "stderr",
     "output_type": "stream",
     "text": [
      "2023-08-16 17:52:48.194 | INFO     | mlutils.distributedcomputing.experiments:run_experiments:11 - {'notebook_path': '0623-experiment-notebook.ipynb', 'n_jobs': 6}\n",
      "2023-08-16 17:52:48.194 | WARNING  | mlutils.distributedcomputing.experiments:run_experiments:21 - Using Papermill backend. Make sure you execute this function not from experiment notebook!\n",
      "2023-08-16 17:52:48.195 | INFO     | mlutils.distributedcomputing.job_scheduling:create_experiment_notebook:91 - \n",
      "    Creating experiment notebook\n",
      "        notebook_name=0623-experiment-notebook.ipynb\n",
      "        experiment_function=do_experiment\n",
      "        instance_id_param_name=EXPERIMENT_INSTANCE_ID\n",
      "        \n",
      "2023-08-16 17:52:48.215 | INFO     | mlutils.distributedcomputing.experiments:run_experiments:34 - Notebook path=/Users/bgulowaty/studia/projekty/scalarizing/notebooks/0623-experiment-notebook-89cd86cf-261c-4392-ab56-1da5b1dd73bb.ipynb\n",
      "2023-08-16 17:52:48.296 | INFO     | mlutils.distributedcomputing.job_scheduling:run_in_papermill:37 - \n",
      "    papermill_path=/Users/bgulowaty/studia/projekty/scalarizing/.venv/bin/papermill\n",
      "    output_dir_path=/var/folders/fd/dyfc8ph167q7r5pf9y8451540000gn/T/tmpqjy297i1\n",
      "    n_jobs=6\n",
      "  0%|          | 0/600 [00:00<?, ?it/s]Black is not installed, parameters wont be formatted\n",
      "\n",
      "Executing:   0%|          | 0/5 [00:00<?, ?cell/s]Black is not installed, parameters wont be formatted\n",
      "\u001B[A\n",
      "\n",
      "Black is not installed, parameters wont be formatted\n",
      "Executing:   0%|          | 0/5 [00:00<?, ?cell/s]\u001B[A\u001B[ABlack is not installed, parameters wont be formatted\n",
      "Black is not installed, parameters wont be formatted\n",
      "\n",
      "\n",
      "\n",
      "Executing:   0%|          | 0/5 [00:00<?, ?cell/s]\u001B[A\u001B[A\u001B[ABlack is not installed, parameters wont be formatted\n",
      "\n",
      "\n",
      "\n",
      "\n",
      "Executing:   0%|          | 0/5 [00:00<?, ?cell/s]\u001B[A\u001B[A\u001B[A\u001B[A\n",
      "\n",
      "\n",
      "\n",
      "\n",
      "Executing:   0%|          | 0/5 [00:00<?, ?cell/s]\u001B[A\u001B[A\u001B[A\u001B[A\u001B[A\n",
      "\n",
      "\n",
      "\n",
      "\n",
      "\n",
      "Executing:   0%|          | 0/5 [00:00<?, ?cell/s]\u001B[A\u001B[A\u001B[A\u001B[A\u001B[A\u001B[A\n",
      "\n",
      "\n",
      "\n",
      "\n",
      "\n",
      "Executing:  20%|██        | 1/5 [00:00<00:03,  1.28cell/s]\u001B[A\u001B[A\u001B[A\u001B[A\u001B[A\u001B[A\n",
      "\n",
      "Executing:  20%|██        | 1/5 [00:00<00:03,  1.09cell/s]\u001B[A\u001B[A\n",
      "\n",
      "\n",
      "Executing:  20%|██        | 1/5 [00:00<00:03,  1.10cell/s]\u001B[A\u001B[A\u001B[A\n",
      "\n",
      "\n",
      "\n",
      "Executing:  20%|██        | 1/5 [00:00<00:03,  1.07cell/s]\u001B[A\u001B[A\u001B[A\u001B[A\n",
      "Executing:  20%|██        | 1/5 [00:01<00:04,  1.00s/cell]\u001B[A\n",
      "\n",
      "\n",
      "\n",
      "\n",
      "Executing:  20%|██        | 1/5 [00:01<00:04,  1.00s/cell]\u001B[A\u001B[A\u001B[A\u001B[A\u001B[A\n",
      "\n",
      "\n",
      "\n",
      "\n",
      "Executing:  40%|████      | 2/5 [00:01<00:01,  1.98cell/s]\u001B[A\u001B[A\u001B[A\u001B[A\u001B[A\n",
      "\n",
      "\n",
      "\n",
      "\n",
      "\n",
      "Executing:  80%|████████  | 4/5 [00:03<00:00,  1.16cell/s]\u001B[A\u001B[A\u001B[A\u001B[A\u001B[A\u001B[A\n",
      "\n",
      "Executing:  80%|████████  | 4/5 [00:03<00:00,  1.14cell/s]\u001B[A\u001B[A\n",
      "\n",
      "\n",
      "Executing:  80%|████████  | 4/5 [00:03<00:00,  1.13cell/s]\u001B[A\u001B[A\u001B[A\n",
      "\n",
      "\n",
      "\n",
      "Executing:  80%|████████  | 4/5 [00:03<00:00,  1.14cell/s]\u001B[A\u001B[A\u001B[A\u001B[A\n",
      "Executing:  80%|████████  | 4/5 [00:03<00:00,  1.10cell/s]\u001B[A\n",
      "\n",
      "\n",
      "\n",
      "\n",
      "Executing:  80%|████████  | 4/5 [00:03<00:00,  1.01cell/s]\u001B[A\u001B[A\u001B[A\u001B[A\u001B[A\n",
      "\n",
      "\n",
      "Executing: 100%|██████████| 5/5 [05:43<00:00, 68.79s/cell]\u001B[A\u001B[A\u001B[A\n",
      "  2%|▏         | 12/600 [05:43<4:40:55, 28.67s/it]Black is not installed, parameters wont be formatted\n",
      "\n",
      "\n",
      "\n",
      "Executing:   0%|          | 0/5 [00:00<?, ?cell/s]\u001B[A\u001B[A\u001B[A\n",
      "\n",
      "\n",
      "Executing:  20%|██        | 1/5 [00:00<00:03,  1.09cell/s]\u001B[A\u001B[A\u001B[A\n",
      "\n",
      "\n",
      "Executing:  80%|████████  | 4/5 [00:02<00:00,  1.49cell/s]\u001B[A\u001B[A\u001B[A\n",
      "\n",
      "Executing: 100%|██████████| 5/5 [06:25<00:00, 77.01s/cell] \u001B[A\u001B[A\n",
      "Black is not installed, parameters wont be formatted\n",
      "\n",
      "\n",
      "Executing:   0%|          | 0/5 [00:00<?, ?cell/s]\u001B[A\u001B[A\n",
      "\n",
      "Executing:  20%|██        | 1/5 [00:00<00:03,  1.06cell/s]\u001B[A\u001B[A\n",
      "\n",
      "Executing:  80%|████████  | 4/5 [00:02<00:00,  1.41cell/s]\u001B[A\u001B[A\n",
      "\n",
      "\n",
      "\n",
      "\n",
      "\n",
      "Executing: 100%|██████████| 5/5 [12:05<00:00, 145.06s/cell]\u001B[A\u001B[A\u001B[A\u001B[A\u001B[A\u001B[A\n",
      "Black is not installed, parameters wont be formatted\n",
      "\n",
      "\n",
      "\n",
      "\n",
      "\n",
      "\n",
      "Executing:   0%|          | 0/5 [00:00<?, ?cell/s]\u001B[A\u001B[A\u001B[A\u001B[A\u001B[A\u001B[A\n",
      "\n",
      "\n",
      "\n",
      "\n",
      "\n",
      "Executing:  20%|██        | 1/5 [00:02<00:08,  2.05s/cell]\u001B[A\u001B[A\u001B[A\u001B[A\u001B[A\u001B[A\n",
      "\n",
      "\n",
      "\n",
      "\n",
      "\n",
      "Executing:  60%|██████    | 3/5 [00:02<00:01,  1.71cell/s]\u001B[A\u001B[A\u001B[A\u001B[A\u001B[A\u001B[A\n",
      "\n",
      "\n",
      "\n",
      "\n",
      "\n",
      "Executing:  80%|████████  | 4/5 [00:07<00:02,  2.35s/cell]\u001B[A\u001B[A\u001B[A\u001B[A\u001B[A\u001B[A\n",
      "Executing: 100%|██████████| 5/5 [15:00<00:00, 180.09s/cell]\u001B[A\n",
      "Black is not installed, parameters wont be formatted\n",
      "\n",
      "Executing:   0%|          | 0/5 [00:00<?, ?cell/s]\u001B[A\n",
      "Executing:  20%|██        | 1/5 [00:02<00:10,  2.57s/cell]\u001B[A\n",
      "Executing:  80%|████████  | 4/5 [00:09<00:02,  2.47s/cell]\u001B[A\n",
      "\n",
      "\n",
      "\n",
      "\n",
      "Executing: 100%|██████████| 5/5 [16:13<00:00, 194.77s/cell]\u001B[A\u001B[A\u001B[A\u001B[A\u001B[A\n",
      "Black is not installed, parameters wont be formatted\n",
      "\n",
      "\n",
      "\n",
      "\n",
      "\n",
      "Executing:   0%|          | 0/5 [00:00<?, ?cell/s]\u001B[A\u001B[A\u001B[A\u001B[A\u001B[A\n",
      "\n",
      "\n",
      "\n",
      "\n",
      "Executing:  20%|██        | 1/5 [00:03<00:12,  3.07s/cell]\u001B[A\u001B[A\u001B[A\u001B[A\u001B[A\n",
      "\n",
      "\n",
      "\n",
      "\n",
      "Executing:  80%|████████  | 4/5 [00:13<00:03,  3.27s/cell]\u001B[A\u001B[A\u001B[A\u001B[A\u001B[A\n",
      "\n",
      "\n",
      "Executing: 100%|██████████| 5/5 [12:38<00:00, 151.69s/cell]\u001B[A\u001B[A\u001B[A\n",
      "Black is not installed, parameters wont be formatted\n",
      "\n",
      "\n",
      "\n",
      "Executing:   0%|          | 0/5 [00:00<?, ?cell/s]\u001B[A\u001B[A\u001B[A\n",
      "\n",
      "\n",
      "Executing:  20%|██        | 1/5 [00:01<00:06,  1.53s/cell]\u001B[A\u001B[A\u001B[A\n",
      "\n",
      "\n",
      "Executing:  80%|████████  | 4/5 [00:04<00:01,  1.16s/cell]\u001B[A\u001B[A\u001B[A\n",
      "\n",
      "\n",
      "Executing: 100%|██████████| 5/5 [00:09<00:00,  1.93s/cell]\u001B[A\u001B[A\u001B[A\n",
      "  3%|▎         | 18/600 [18:32<11:19:51, 70.09s/it]Black is not installed, parameters wont be formatted\n",
      "\n",
      "\n",
      "\n",
      "Executing:   0%|          | 0/5 [00:00<?, ?cell/s]\u001B[A\u001B[A\u001B[A\n",
      "\n",
      "\n",
      "Executing:  20%|██        | 1/5 [00:01<00:05,  1.40s/cell]\u001B[A\u001B[A\u001B[A\n",
      "\n",
      "\n",
      "Executing:  80%|████████  | 4/5 [00:06<00:01,  1.63s/cell]\u001B[A\u001B[A\u001B[A"
     ]
    }
   ],
   "source": [
    "run_experiments(unfinished_run_ids, 'do_experiment', notebook_path=\"0623-experiment-notebook.ipynb\", backend='papermill', n_jobs=6)"
   ],
   "metadata": {
    "collapsed": false,
    "is_executing": true,
    "ExecuteTime": {
     "start_time": "2023-08-16T15:52:48.164176Z"
    }
   }
  },
  {
   "cell_type": "code",
   "execution_count": null,
   "outputs": [],
   "source": [],
   "metadata": {
    "collapsed": false
   }
  },
  {
   "cell_type": "code",
   "execution_count": 538,
   "outputs": [
    {
     "data": {
      "text/plain": "array([[1., 0.],\n       [1., 0.],\n       [1., 0.],\n       [1., 0.],\n       [1., 0.],\n       [1., 0.],\n       [1., 0.],\n       [1., 0.],\n       [1., 0.],\n       [1., 0.],\n       [1., 0.],\n       [1., 0.],\n       [1., 0.],\n       [1., 0.],\n       [1., 0.],\n       [1., 0.],\n       [1., 0.],\n       [1., 0.],\n       [1., 0.],\n       [1., 0.],\n       [1., 0.]])"
     },
     "execution_count": 538,
     "metadata": {},
     "output_type": "execute_result"
    }
   ],
   "source": [
    "%timeit\n",
    "clf_cached.predict_proba([[1,2], [5,0], [23,32], [1,2], [5,0], [23,32], [1,2], [5,0], [23,32], [1,2], [5,0], [23,32], [1,2], [5,0], [23,32], [1,2], [5,0], [23,32], [1,2], [5,0], [23,32]])"
   ],
   "metadata": {
    "collapsed": false,
    "ExecuteTime": {
     "end_time": "2023-08-15T19:07:07.758850Z",
     "start_time": "2023-08-15T19:07:07.727189Z"
    }
   }
  },
  {
   "cell_type": "code",
   "execution_count": 494,
   "outputs": [
    {
     "data": {
      "text/plain": "array([[0],\n       [1],\n       [2]])"
     },
     "execution_count": 494,
     "metadata": {},
     "output_type": "execute_result"
    }
   ],
   "source": [
    "np.array([0, 1, 2]).reshape(3, 1)"
   ],
   "metadata": {
    "collapsed": false,
    "ExecuteTime": {
     "end_time": "2023-08-15T19:02:00.720787Z",
     "start_time": "2023-08-15T19:02:00.688113Z"
    }
   }
  },
  {
   "cell_type": "code",
   "execution_count": 233,
   "outputs": [],
   "source": [
    "def do_hash(numpy_array):\n",
    "    return str(numpy_array.tobytes())"
   ],
   "metadata": {
    "collapsed": false,
    "ExecuteTime": {
     "end_time": "2023-08-15T16:26:52.409288Z",
     "start_time": "2023-08-15T16:26:52.376148Z"
    }
   }
  },
  {
   "cell_type": "code",
   "execution_count": 234,
   "outputs": [],
   "source": [
    "hashes = np.apply_along_axis(do_hash, axis=1, arr=x)"
   ],
   "metadata": {
    "collapsed": false,
    "ExecuteTime": {
     "end_time": "2023-08-15T16:26:57.048128Z",
     "start_time": "2023-08-15T16:26:57.018908Z"
    }
   }
  },
  {
   "cell_type": "code",
   "execution_count": 227,
   "outputs": [],
   "source": [
    "from cachetools import LRUCache\n",
    "cache = LRUCache(maxsize=512)\n",
    "cache[hashes[0]] = 1\n",
    "cache[hashes[2]] = 2"
   ],
   "metadata": {
    "collapsed": false,
    "ExecuteTime": {
     "end_time": "2023-08-15T16:25:48.523909Z",
     "start_time": "2023-08-15T16:25:48.493489Z"
    }
   }
  },
  {
   "cell_type": "code",
   "execution_count": 87,
   "outputs": [],
   "source": [
    "#hashes = np.apply_along_axis(lambda it: it.tobytes(), axis=1, arr=x)"
   ],
   "metadata": {
    "collapsed": false,
    "ExecuteTime": {
     "end_time": "2023-08-15T15:46:07.843503Z",
     "start_time": "2023-08-15T15:46:07.814822Z"
    }
   }
  },
  {
   "cell_type": "code",
   "execution_count": 228,
   "outputs": [],
   "source": [
    "already_cached = np.in1d(hashes, cache)\n",
    "indicies_cached = np.where(already_cached)[0]\n",
    "indicies_not_cached = np.where(~already_cached)[0]\n",
    "\n"
   ],
   "metadata": {
    "collapsed": false,
    "ExecuteTime": {
     "end_time": "2023-08-15T16:25:54.544590Z",
     "start_time": "2023-08-15T16:25:54.470386Z"
    }
   }
  },
  {
   "cell_type": "code",
   "execution_count": 241,
   "outputs": [],
   "source": [
    "def do_classify(val):\n",
    "    return 5"
   ],
   "metadata": {
    "collapsed": false,
    "ExecuteTime": {
     "end_time": "2023-08-15T16:28:17.557072Z",
     "start_time": "2023-08-15T16:28:17.505103Z"
    }
   }
  },
  {
   "cell_type": "code",
   "execution_count": 264,
   "outputs": [],
   "source": [
    "values_from_cache = [cache[it] for it in hashes[already_cached]]\n",
    "values_classified = [do_classify(it) for it in x[indicies_not_cached]]"
   ],
   "metadata": {
    "collapsed": false,
    "ExecuteTime": {
     "end_time": "2023-08-15T16:39:00.625340Z",
     "start_time": "2023-08-15T16:39:00.596673Z"
    }
   }
  },
  {
   "cell_type": "code",
   "execution_count": null,
   "outputs": [],
   "source": [],
   "metadata": {
    "collapsed": false
   }
  },
  {
   "cell_type": "code",
   "execution_count": 290,
   "outputs": [
    {
     "data": {
      "text/plain": "array([[0., 0.],\n       [0., 0.]])"
     },
     "execution_count": 290,
     "metadata": {},
     "output_type": "execute_result"
    }
   ],
   "source": [],
   "metadata": {
    "collapsed": false,
    "ExecuteTime": {
     "end_time": "2023-08-15T16:55:24.915696Z",
     "start_time": "2023-08-15T16:55:24.880808Z"
    }
   }
  },
  {
   "cell_type": "code",
   "execution_count": 496,
   "outputs": [
    {
     "data": {
      "text/plain": "array([[0., 0.],\n       [0., 0.],\n       [0., 0.],\n       [0., 0.]])"
     },
     "execution_count": 496,
     "metadata": {},
     "output_type": "execute_result"
    }
   ],
   "source": [
    "y_soft = np.array([[0.1, 0.2], [5, 6], [1,1]])\n",
    "y_classified = np.zeros((4, 2))\n",
    "y_classified"
   ],
   "metadata": {
    "collapsed": false,
    "ExecuteTime": {
     "end_time": "2023-08-15T19:02:57.610014Z",
     "start_time": "2023-08-15T19:02:57.578496Z"
    }
   }
  },
  {
   "cell_type": "code",
   "execution_count": 358,
   "outputs": [
    {
     "data": {
      "text/plain": "(2, 1)"
     },
     "execution_count": 358,
     "metadata": {},
     "output_type": "execute_result"
    }
   ],
   "source": [
    "np.array([[0], [2]])"
   ],
   "metadata": {
    "collapsed": false,
    "ExecuteTime": {
     "end_time": "2023-08-15T18:22:22.593030Z",
     "start_time": "2023-08-15T18:22:22.561780Z"
    }
   }
  },
  {
   "cell_type": "code",
   "execution_count": 498,
   "outputs": [],
   "source": [
    "indicies_cached = np.array([0, 1, 3])"
   ],
   "metadata": {
    "collapsed": false,
    "ExecuteTime": {
     "end_time": "2023-08-15T19:03:43.436966Z",
     "start_time": "2023-08-15T19:03:43.405930Z"
    }
   }
  },
  {
   "cell_type": "code",
   "execution_count": 502,
   "outputs": [
    {
     "data": {
      "text/plain": "array([[0.1, 0.2],\n       [5. , 6. ],\n       [0. , 0. ],\n       [1. , 1. ]])"
     },
     "execution_count": 502,
     "metadata": {},
     "output_type": "execute_result"
    }
   ],
   "source": [
    "y_classified"
   ],
   "metadata": {
    "collapsed": false,
    "ExecuteTime": {
     "end_time": "2023-08-15T19:04:07.387633Z",
     "start_time": "2023-08-15T19:04:07.354320Z"
    }
   }
  },
  {
   "cell_type": "code",
   "execution_count": 501,
   "outputs": [],
   "source": [
    "np.put_along_axis(y_classified, indicies_cached.reshape((3, 1)), y_soft, axis=0)\n",
    "# np.put_along_axis(y_classified, indicies_not_cached, values_classified, axis=0)"
   ],
   "metadata": {
    "collapsed": false,
    "ExecuteTime": {
     "end_time": "2023-08-15T19:04:05.716130Z",
     "start_time": "2023-08-15T19:04:05.683542Z"
    }
   }
  },
  {
   "cell_type": "code",
   "execution_count": 350,
   "outputs": [],
   "source": [
    "np.put_along_axis(y_classified, np.array([[0], [2]]), y_soft, axis=0)\n",
    "# np.put_along_axis(y_classified, indicies_not_cached, values_classified, axis=0)"
   ],
   "metadata": {
    "collapsed": false,
    "ExecuteTime": {
     "end_time": "2023-08-15T18:19:46.223375Z",
     "start_time": "2023-08-15T18:19:46.192890Z"
    }
   }
  },
  {
   "cell_type": "code",
   "execution_count": 361,
   "outputs": [
    {
     "data": {
      "text/plain": "array([[0.1, 0.2],\n       [0. , 0. ],\n       [5. , 6. ],\n       [0. , 0. ]])"
     },
     "execution_count": 361,
     "metadata": {},
     "output_type": "execute_result"
    }
   ],
   "source": [
    "y_classified"
   ],
   "metadata": {
    "collapsed": false,
    "ExecuteTime": {
     "end_time": "2023-08-15T18:22:54.684179Z",
     "start_time": "2023-08-15T18:22:54.651206Z"
    }
   }
  },
  {
   "cell_type": "code",
   "execution_count": 340,
   "outputs": [
    {
     "data": {
      "text/plain": "array([[0.1, 0.2],\n       [5. , 6. ],\n       [5. , 6. ],\n       [0. , 0. ]])"
     },
     "execution_count": 340,
     "metadata": {},
     "output_type": "execute_result"
    }
   ],
   "source": [
    "y_classified"
   ],
   "metadata": {
    "collapsed": false,
    "ExecuteTime": {
     "end_time": "2023-08-15T18:17:57.314090Z",
     "start_time": "2023-08-15T18:17:57.283036Z"
    }
   }
  },
  {
   "cell_type": "code",
   "execution_count": 261,
   "outputs": [
    {
     "ename": "AxisError",
     "evalue": "axis 1 is out of bounds for array of dimension 1",
     "output_type": "error",
     "traceback": [
      "\u001B[0;31m---------------------------------------------------------------------------\u001B[0m",
      "\u001B[0;31mAxisError\u001B[0m                                 Traceback (most recent call last)",
      "Cell \u001B[0;32mIn[261], line 1\u001B[0m\n\u001B[0;32m----> 1\u001B[0m \u001B[43mnp\u001B[49m\u001B[38;5;241;43m.\u001B[39;49m\u001B[43mapply_along_axis\u001B[49m\u001B[43m(\u001B[49m\u001B[38;5;28;43;01mlambda\u001B[39;49;00m\u001B[43m \u001B[49m\u001B[43mit\u001B[49m\u001B[43m:\u001B[49m\u001B[43m \u001B[49m\u001B[43mcache\u001B[49m\u001B[43m[\u001B[49m\u001B[43mit\u001B[49m\u001B[43m]\u001B[49m\u001B[43m,\u001B[49m\u001B[43m \u001B[49m\u001B[43maxis\u001B[49m\u001B[38;5;241;43m=\u001B[39;49m\u001B[38;5;241;43m1\u001B[39;49m\u001B[43m,\u001B[49m\u001B[43m \u001B[49m\u001B[43marr\u001B[49m\u001B[38;5;241;43m=\u001B[39;49m\u001B[43mhashes\u001B[49m\u001B[43m[\u001B[49m\u001B[43malready_cached\u001B[49m\u001B[43m]\u001B[49m\u001B[43m)\u001B[49m\n",
      "File \u001B[0;32m<__array_function__ internals>:200\u001B[0m, in \u001B[0;36mapply_along_axis\u001B[0;34m(*args, **kwargs)\u001B[0m\n",
      "File \u001B[0;32m~/studia/projekty/scalarizing/.venv/lib/python3.8/site-packages/numpy/lib/shape_base.py:361\u001B[0m, in \u001B[0;36mapply_along_axis\u001B[0;34m(func1d, axis, arr, *args, **kwargs)\u001B[0m\n\u001B[1;32m    359\u001B[0m arr \u001B[38;5;241m=\u001B[39m asanyarray(arr)\n\u001B[1;32m    360\u001B[0m nd \u001B[38;5;241m=\u001B[39m arr\u001B[38;5;241m.\u001B[39mndim\n\u001B[0;32m--> 361\u001B[0m axis \u001B[38;5;241m=\u001B[39m \u001B[43mnormalize_axis_index\u001B[49m\u001B[43m(\u001B[49m\u001B[43maxis\u001B[49m\u001B[43m,\u001B[49m\u001B[43m \u001B[49m\u001B[43mnd\u001B[49m\u001B[43m)\u001B[49m\n\u001B[1;32m    363\u001B[0m \u001B[38;5;66;03m# arr, with the iteration axis at the end\u001B[39;00m\n\u001B[1;32m    364\u001B[0m in_dims \u001B[38;5;241m=\u001B[39m \u001B[38;5;28mlist\u001B[39m(\u001B[38;5;28mrange\u001B[39m(nd))\n",
      "\u001B[0;31mAxisError\u001B[0m: axis 1 is out of bounds for array of dimension 1"
     ]
    }
   ],
   "source": [
    "np.apply_along_axis(lambda it: cache[it], axis=1, arr=hashes[already_cached])"
   ],
   "metadata": {
    "collapsed": false,
    "ExecuteTime": {
     "end_time": "2023-08-15T16:38:12.540342Z",
     "start_time": "2023-08-15T16:38:12.488917Z"
    }
   }
  },
  {
   "cell_type": "code",
   "execution_count": 245,
   "outputs": [
    {
     "ename": "KeyError",
     "evalue": "\"b'\\\\x01\\\\x00\\\\x00\\\\x00\\\\x00\\\\x00\\\\x00\\\\x00\\\\x02\\\\x00\\\\x00\\\\x00\\\\x00\\\\x00\\\\x00\\\\x00L\\\\x01\\\\x00\\\\x00\\\\x00\\\\x00\\\\x00\\\\x00\\\\xa8\\\\x01\\\\x00\\\\x00\\\\x00\\\\x00\\\\x00\\\\x00'\"",
     "output_type": "error",
     "traceback": [
      "\u001B[0;31m---------------------------------------------------------------------------\u001B[0m",
      "\u001B[0;31mKeyError\u001B[0m                                  Traceback (most recent call last)",
      "File \u001B[0;32m~/studia/projekty/scalarizing/.venv/lib/python3.8/site-packages/cachetools/__init__.py:68\u001B[0m, in \u001B[0;36mCache.__getitem__\u001B[0;34m(self, key)\u001B[0m\n\u001B[1;32m     67\u001B[0m \u001B[38;5;28;01mtry\u001B[39;00m:\n\u001B[0;32m---> 68\u001B[0m     \u001B[38;5;28;01mreturn\u001B[39;00m \u001B[38;5;28;43mself\u001B[39;49m\u001B[38;5;241;43m.\u001B[39;49m\u001B[43m__data\u001B[49m\u001B[43m[\u001B[49m\u001B[43mkey\u001B[49m\u001B[43m]\u001B[49m\n\u001B[1;32m     69\u001B[0m \u001B[38;5;28;01mexcept\u001B[39;00m \u001B[38;5;167;01mKeyError\u001B[39;00m:\n",
      "\u001B[0;31mKeyError\u001B[0m: \"b'\\\\x01\\\\x00\\\\x00\\\\x00\\\\x00\\\\x00\\\\x00\\\\x00\\\\x02\\\\x00\\\\x00\\\\x00\\\\x00\\\\x00\\\\x00\\\\x00L\\\\x01\\\\x00\\\\x00\\\\x00\\\\x00\\\\x00\\\\x00\\\\xa8\\\\x01\\\\x00\\\\x00\\\\x00\\\\x00\\\\x00\\\\x00'\"",
      "\nDuring handling of the above exception, another exception occurred:\n",
      "\u001B[0;31mKeyError\u001B[0m                                  Traceback (most recent call last)",
      "Cell \u001B[0;32mIn[245], line 1\u001B[0m\n\u001B[0;32m----> 1\u001B[0m \u001B[43mnp\u001B[49m\u001B[38;5;241;43m.\u001B[39;49m\u001B[43mpiecewise\u001B[49m\u001B[43m(\u001B[49m\u001B[43mx\u001B[49m\u001B[43m,\u001B[49m\u001B[43m \u001B[49m\u001B[43m[\u001B[49m\u001B[43malready_cached\u001B[49m\u001B[43m,\u001B[49m\u001B[43m \u001B[49m\u001B[38;5;241;43m~\u001B[39;49m\u001B[43malready_cached\u001B[49m\u001B[43m]\u001B[49m\u001B[43m,\u001B[49m\u001B[43m \u001B[49m\u001B[43m[\u001B[49m\u001B[38;5;28;43;01mlambda\u001B[39;49;00m\u001B[43m \u001B[49m\u001B[43mit\u001B[49m\u001B[43m:\u001B[49m\u001B[43m \u001B[49m\u001B[43mcache\u001B[49m\u001B[43m[\u001B[49m\u001B[43mdo_hash\u001B[49m\u001B[43m(\u001B[49m\u001B[43mit\u001B[49m\u001B[43m)\u001B[49m\u001B[43m]\u001B[49m\u001B[43m,\u001B[49m\u001B[43m \u001B[49m\u001B[43mdo_classify\u001B[49m\u001B[43m]\u001B[49m\u001B[43m)\u001B[49m\n",
      "File \u001B[0;32m<__array_function__ internals>:200\u001B[0m, in \u001B[0;36mpiecewise\u001B[0;34m(*args, **kwargs)\u001B[0m\n",
      "File \u001B[0;32m~/studia/projekty/scalarizing/.venv/lib/python3.8/site-packages/numpy/lib/function_base.py:756\u001B[0m, in \u001B[0;36mpiecewise\u001B[0;34m(x, condlist, funclist, *args, **kw)\u001B[0m\n\u001B[1;32m    754\u001B[0m         vals \u001B[38;5;241m=\u001B[39m x[cond]\n\u001B[1;32m    755\u001B[0m         \u001B[38;5;28;01mif\u001B[39;00m vals\u001B[38;5;241m.\u001B[39msize \u001B[38;5;241m>\u001B[39m \u001B[38;5;241m0\u001B[39m:\n\u001B[0;32m--> 756\u001B[0m             y[cond] \u001B[38;5;241m=\u001B[39m \u001B[43mfunc\u001B[49m\u001B[43m(\u001B[49m\u001B[43mvals\u001B[49m\u001B[43m,\u001B[49m\u001B[43m \u001B[49m\u001B[38;5;241;43m*\u001B[39;49m\u001B[43margs\u001B[49m\u001B[43m,\u001B[49m\u001B[43m \u001B[49m\u001B[38;5;241;43m*\u001B[39;49m\u001B[38;5;241;43m*\u001B[39;49m\u001B[43mkw\u001B[49m\u001B[43m)\u001B[49m\n\u001B[1;32m    758\u001B[0m \u001B[38;5;28;01mreturn\u001B[39;00m y\n",
      "Cell \u001B[0;32mIn[245], line 1\u001B[0m, in \u001B[0;36m<lambda>\u001B[0;34m(it)\u001B[0m\n\u001B[0;32m----> 1\u001B[0m np\u001B[38;5;241m.\u001B[39mpiecewise(x, [already_cached, \u001B[38;5;241m~\u001B[39malready_cached], [\u001B[38;5;28;01mlambda\u001B[39;00m it: \u001B[43mcache\u001B[49m\u001B[43m[\u001B[49m\u001B[43mdo_hash\u001B[49m\u001B[43m(\u001B[49m\u001B[43mit\u001B[49m\u001B[43m)\u001B[49m\u001B[43m]\u001B[49m, do_classify])\n",
      "File \u001B[0;32m~/studia/projekty/scalarizing/.venv/lib/python3.8/site-packages/cachetools/__init__.py:211\u001B[0m, in \u001B[0;36mLRUCache.__getitem__\u001B[0;34m(self, key, cache_getitem)\u001B[0m\n\u001B[1;32m    210\u001B[0m \u001B[38;5;28;01mdef\u001B[39;00m \u001B[38;5;21m__getitem__\u001B[39m(\u001B[38;5;28mself\u001B[39m, key, cache_getitem\u001B[38;5;241m=\u001B[39mCache\u001B[38;5;241m.\u001B[39m\u001B[38;5;21m__getitem__\u001B[39m):\n\u001B[0;32m--> 211\u001B[0m     value \u001B[38;5;241m=\u001B[39m \u001B[43mcache_getitem\u001B[49m\u001B[43m(\u001B[49m\u001B[38;5;28;43mself\u001B[39;49m\u001B[43m,\u001B[49m\u001B[43m \u001B[49m\u001B[43mkey\u001B[49m\u001B[43m)\u001B[49m\n\u001B[1;32m    212\u001B[0m     \u001B[38;5;28;01mif\u001B[39;00m key \u001B[38;5;129;01min\u001B[39;00m \u001B[38;5;28mself\u001B[39m:  \u001B[38;5;66;03m# __missing__ may not store item\u001B[39;00m\n\u001B[1;32m    213\u001B[0m         \u001B[38;5;28mself\u001B[39m\u001B[38;5;241m.\u001B[39m__update(key)\n",
      "File \u001B[0;32m~/studia/projekty/scalarizing/.venv/lib/python3.8/site-packages/cachetools/__init__.py:70\u001B[0m, in \u001B[0;36mCache.__getitem__\u001B[0;34m(self, key)\u001B[0m\n\u001B[1;32m     68\u001B[0m     \u001B[38;5;28;01mreturn\u001B[39;00m \u001B[38;5;28mself\u001B[39m\u001B[38;5;241m.\u001B[39m__data[key]\n\u001B[1;32m     69\u001B[0m \u001B[38;5;28;01mexcept\u001B[39;00m \u001B[38;5;167;01mKeyError\u001B[39;00m:\n\u001B[0;32m---> 70\u001B[0m     \u001B[38;5;28;01mreturn\u001B[39;00m \u001B[38;5;28;43mself\u001B[39;49m\u001B[38;5;241;43m.\u001B[39;49m\u001B[38;5;21;43m__missing__\u001B[39;49m\u001B[43m(\u001B[49m\u001B[43mkey\u001B[49m\u001B[43m)\u001B[49m\n",
      "File \u001B[0;32m~/studia/projekty/scalarizing/.venv/lib/python3.8/site-packages/cachetools/__init__.py:97\u001B[0m, in \u001B[0;36mCache.__missing__\u001B[0;34m(self, key)\u001B[0m\n\u001B[1;32m     96\u001B[0m \u001B[38;5;28;01mdef\u001B[39;00m \u001B[38;5;21m__missing__\u001B[39m(\u001B[38;5;28mself\u001B[39m, key):\n\u001B[0;32m---> 97\u001B[0m     \u001B[38;5;28;01mraise\u001B[39;00m \u001B[38;5;167;01mKeyError\u001B[39;00m(key)\n",
      "\u001B[0;31mKeyError\u001B[0m: \"b'\\\\x01\\\\x00\\\\x00\\\\x00\\\\x00\\\\x00\\\\x00\\\\x00\\\\x02\\\\x00\\\\x00\\\\x00\\\\x00\\\\x00\\\\x00\\\\x00L\\\\x01\\\\x00\\\\x00\\\\x00\\\\x00\\\\x00\\\\x00\\\\xa8\\\\x01\\\\x00\\\\x00\\\\x00\\\\x00\\\\x00\\\\x00'\""
     ]
    }
   ],
   "source": [
    "np.piecewise(x, [already_cached, ~already_cached], [lambda it: cache[do_hash(it)], do_classify])"
   ],
   "metadata": {
    "collapsed": false,
    "ExecuteTime": {
     "end_time": "2023-08-15T16:30:27.936168Z",
     "start_time": "2023-08-15T16:30:27.852617Z"
    }
   }
  },
  {
   "cell_type": "code",
   "execution_count": 229,
   "outputs": [
    {
     "data": {
      "text/plain": "array([0, 2])"
     },
     "execution_count": 229,
     "metadata": {},
     "output_type": "execute_result"
    }
   ],
   "source": [
    "indicies_cached"
   ],
   "metadata": {
    "collapsed": false,
    "ExecuteTime": {
     "end_time": "2023-08-15T16:25:56.064787Z",
     "start_time": "2023-08-15T16:25:56.019691Z"
    }
   }
  },
  {
   "cell_type": "code",
   "execution_count": 236,
   "outputs": [
    {
     "data": {
      "text/plain": "True"
     },
     "execution_count": 236,
     "metadata": {},
     "output_type": "execute_result"
    }
   ],
   "source": [
    "hashes_cached[0] == do_hash(x[0])"
   ],
   "metadata": {
    "collapsed": false,
    "ExecuteTime": {
     "end_time": "2023-08-15T16:27:10.469473Z",
     "start_time": "2023-08-15T16:27:10.441346Z"
    }
   }
  },
  {
   "cell_type": "code",
   "execution_count": 61,
   "outputs": [],
   "source": [
    "to_evaluate_by_clf = x[indicies_not_cached]\n",
    "\n",
    "to_get_from_cache"
   ],
   "metadata": {
    "collapsed": false,
    "ExecuteTime": {
     "end_time": "2023-08-15T15:40:54.737975Z",
     "start_time": "2023-08-15T15:40:54.710124Z"
    }
   }
  },
  {
   "cell_type": "code",
   "execution_count": 62,
   "outputs": [
    {
     "data": {
      "text/plain": "array([[332, 424],\n       [  1,   1]])"
     },
     "execution_count": 62,
     "metadata": {},
     "output_type": "execute_result"
    }
   ],
   "source": [
    "to_evaluate_by_clf"
   ],
   "metadata": {
    "collapsed": false,
    "ExecuteTime": {
     "end_time": "2023-08-15T15:40:56.525825Z",
     "start_time": "2023-08-15T15:40:56.496348Z"
    }
   }
  },
  {
   "cell_type": "code",
   "execution_count": 59,
   "outputs": [
    {
     "data": {
      "text/plain": "array([0, 1])"
     },
     "execution_count": 59,
     "metadata": {},
     "output_type": "execute_result"
    }
   ],
   "source": [
    "indicies_cached"
   ],
   "metadata": {
    "collapsed": false,
    "ExecuteTime": {
     "end_time": "2023-08-15T15:40:16.026153Z",
     "start_time": "2023-08-15T15:40:15.997022Z"
    }
   }
  },
  {
   "cell_type": "code",
   "execution_count": 46,
   "outputs": [],
   "source": [
    "not_cached = ~already_cached"
   ],
   "metadata": {
    "collapsed": false,
    "ExecuteTime": {
     "end_time": "2023-08-15T15:29:08.916513Z",
     "start_time": "2023-08-15T15:29:08.870034Z"
    }
   }
  },
  {
   "cell_type": "code",
   "execution_count": 49,
   "outputs": [
    {
     "data": {
      "text/plain": "array([[332, 424],\n       [  1,   1]])"
     },
     "execution_count": 49,
     "metadata": {},
     "output_type": "execute_result"
    }
   ],
   "source": [
    "x[not_cached]"
   ],
   "metadata": {
    "collapsed": false,
    "ExecuteTime": {
     "end_time": "2023-08-15T15:29:42.577263Z",
     "start_time": "2023-08-15T15:29:42.546885Z"
    }
   }
  },
  {
   "cell_type": "code",
   "execution_count": 13,
   "outputs": [
    {
     "data": {
      "text/plain": "5"
     },
     "execution_count": 13,
     "metadata": {},
     "output_type": "execute_result"
    }
   ],
   "source": [
    "cache[x[0].tobytes()]"
   ],
   "metadata": {
    "collapsed": false,
    "ExecuteTime": {
     "end_time": "2023-08-15T14:53:20.423197Z",
     "start_time": "2023-08-15T14:53:20.385319Z"
    }
   }
  },
  {
   "cell_type": "code",
   "execution_count": 8,
   "outputs": [
    {
     "data": {
      "text/plain": "False"
     },
     "execution_count": 8,
     "metadata": {},
     "output_type": "execute_result"
    }
   ],
   "source": [
    "from cachetools import LRUCache\n",
    "cache = LRUCache(maxsize=512)\n",
    "cache['abc'] = 'sda'\n",
    "'sda' in cache.keys()"
   ],
   "metadata": {
    "collapsed": false,
    "ExecuteTime": {
     "end_time": "2023-08-15T14:52:30.148414Z",
     "start_time": "2023-08-15T14:52:30.097051Z"
    }
   }
  },
  {
   "cell_type": "code",
   "execution_count": 18,
   "outputs": [
    {
     "ename": "NameError",
     "evalue": "name 'experiment_scalarizing' is not defined",
     "output_type": "error",
     "traceback": [
      "\u001B[0;31m---------------------------------------------------------------------------\u001B[0m",
      "\u001B[0;31mNameError\u001B[0m                                 Traceback (most recent call last)",
      "Cell \u001B[0;32mIn[18], line 1\u001B[0m\n\u001B[0;32m----> 1\u001B[0m \u001B[43mexperiment_scalarizing\u001B[49m[\u001B[38;5;241m0\u001B[39m]\n",
      "\u001B[0;31mNameError\u001B[0m: name 'experiment_scalarizing' is not defined"
     ]
    }
   ],
   "source": [
    "experiment_scalarizing[0]"
   ],
   "metadata": {
    "collapsed": false,
    "ExecuteTime": {
     "end_time": "2023-08-14T22:13:53.756240Z",
     "start_time": "2023-08-14T22:13:53.041893Z"
    }
   }
  }
 ],
 "metadata": {
  "kernelspec": {
   "display_name": "Python 3",
   "language": "python",
   "name": "python3"
  },
  "language_info": {
   "codemirror_mode": {
    "name": "ipython",
    "version": 2
   },
   "file_extension": ".py",
   "mimetype": "text/x-python",
   "name": "python",
   "nbconvert_exporter": "python",
   "pygments_lexer": "ipython2",
   "version": "2.7.6"
  }
 },
 "nbformat": 4,
 "nbformat_minor": 0
}
