{
 "cells": [
  {
   "cell_type": "code",
   "execution_count": 1,
   "outputs": [],
   "source": [
    "%load_ext autoreload\n",
    "%autoreload 2"
   ],
   "metadata": {
    "collapsed": false,
    "ExecuteTime": {
     "end_time": "2023-05-31T20:00:08.153752983Z",
     "start_time": "2023-05-31T20:00:08.092216652Z"
    }
   }
  },
  {
   "cell_type": "code",
   "execution_count": 7,
   "outputs": [],
   "source": [
    "\n",
    "from loguru import logger\n",
    "from mlflow import MlflowClient\n",
    "from mlutils.datasets.dataset import Dataset\n",
    "from mlutils.mlflow.utils import get_run_params\n",
    "from mlutils.mlflow.utils import terminate_run, finish_run_and_print_exception\n",
    "from pymoo.algorithms.soo.nonconvex.ga import GA\n",
    "from pymoo.optimize import minimize\n",
    "from sklearn.ensemble import BaggingClassifier\n",
    "from sklearn.linear_model import Perceptron\n",
    "\n",
    "from scalarizing.utils import extract_classifiers_from_bagging"
   ],
   "metadata": {
    "collapsed": false,
    "ExecuteTime": {
     "end_time": "2023-05-31T20:06:10.967036507Z",
     "start_time": "2023-05-31T20:06:10.913953366Z"
    }
   }
  },
  {
   "cell_type": "code",
   "execution_count": 6,
   "metadata": {
    "collapsed": true,
    "ExecuteTime": {
     "end_time": "2023-05-31T20:05:25.734102858Z",
     "start_time": "2023-05-31T20:05:25.523969481Z"
    }
   },
   "outputs": [],
   "source": [
    "from scalarizing.scalarizing import FindingBestExpressionSingleDatasetProblem, FindingBestExpressionProblemMutation, \\\n",
    "    FindingBestExpressionProblemCrossover, FindingBestExpressionProblemSampling\n",
    "from scalarizing.scoring_functions import default_scoring_function"
   ]
  },
  {
   "cell_type": "code",
   "execution_count": 29,
   "outputs": [],
   "source": [
    "def do_experiment(run_id):\n",
    "    client = MlflowClient()\n",
    "    param = get_run_params(run_id, client)\n",
    "    logger.info(param)\n",
    "\n",
    "    try:\n",
    "        train_path = param.train_path.replace('tra', 'tst')\n",
    "        name = param.train_path.split(\"/\")[-1].split('-')[0]\n",
    "        dataset = Dataset.read_dataset(param.train_path, train_path, name) \\\n",
    "            .encode_x_to_labels() \\\n",
    "            .encode_y_to_numeric_labels()\n",
    "\n",
    "        # bagging\n",
    "        bagging = BaggingClassifier(\n",
    "            base_estimator=Perceptron(random_state=42),\n",
    "                                    n_estimators=int(param.ensemble_size),\n",
    "            max_samples=0.3,\n",
    "            random_state=42)\n",
    "        bagging.fit(dataset.train.x, dataset.train.y)\n",
    "\n",
    "        problem = FindingBestExpressionSingleDatasetProblem(\n",
    "            dataset.train,\n",
    "            extract_classifiers_from_bagging(bagging),\n",
    "            ensemble_size=int(param.final_ensemble_size),\n",
    "            scoring_function=default_scoring_function)\n",
    "\n",
    "        result = minimize(problem,\n",
    "                          GA(\n",
    "                              pop_size=int(param.pop_size) if \"pop_size\" in param else 100,\n",
    "                              verbose=True,\n",
    "                              seed=42,\n",
    "                              eliminate_duplicates=False,\n",
    "                              mutation=FindingBestExpressionProblemMutation(),\n",
    "                              crossover=FindingBestExpressionProblemCrossover(),\n",
    "                              sampling=FindingBestExpressionProblemSampling()\n",
    "                          ),\n",
    "                          (\"n_gen\", int(param.n_gen) if \"n_gen\" in param else 300),\n",
    "                          verbose=True,\n",
    "                          save_history=False,\n",
    "                          seed=42)\n",
    "\n",
    "        avg_accuracy = result.F[0]\n",
    "\n",
    "        client.log_metric(run_id, \"accuracy\", avg_accuracy)\n",
    "        terminate_run(run_id, client=client)\n",
    "    except Exception as e:\n",
    "        finish_run_and_print_exception(run_id, e, client = client)"
   ],
   "metadata": {
    "collapsed": false,
    "ExecuteTime": {
     "end_time": "2023-05-31T20:51:03.992415185Z",
     "start_time": "2023-05-31T20:51:03.961844113Z"
    }
   }
  }
 ],
 "metadata": {
  "kernelspec": {
   "display_name": "Python 3",
   "language": "python",
   "name": "python3"
  },
  "language_info": {
   "codemirror_mode": {
    "name": "ipython",
    "version": 2
   },
   "file_extension": ".py",
   "mimetype": "text/x-python",
   "name": "python",
   "nbconvert_exporter": "python",
   "pygments_lexer": "ipython2",
   "version": "2.7.6"
  }
 },
 "nbformat": 4,
 "nbformat_minor": 0
}
