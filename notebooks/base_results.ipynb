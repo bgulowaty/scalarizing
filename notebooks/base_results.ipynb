{
 "cells": [
  {
   "cell_type": "code",
   "execution_count": 1,
   "id": "60ca12bb-622f-422b-a6bf-be9136104869",
   "metadata": {
    "tags": [
     "parameters"
    ]
   },
   "outputs": [],
   "source": [
    "EXPERIMENT_INSTANCE_ID = \"a636350c80144b038a0e805d8ba912a2\"\n",
    "N_CPUS = 8\n",
    "TRACKING_URL = \"file:///home/bogul/scalarizing/notebooks/mlruns\"\n"
   ]
  },
  {
   "cell_type": "code",
   "execution_count": 2,
   "id": "9775a3c4-36dc-49dd-9c1d-eb949c0c0d14",
   "metadata": {},
   "outputs": [],
   "source": [
    "import mlflow\n",
    "import pandas as pd\n",
    "from sklearn.ensemble import BaggingClassifier\n",
    "from sklearn.linear_model import Perceptron\n",
    "from box import Box\n",
    "from deslib import static\n",
    "from deslib import des\n",
    "from copy import deepcopy\n",
    "from sklearn.metrics import accuracy_score"
   ]
  },
  {
   "cell_type": "code",
   "execution_count": 3,
   "id": "41241089-62b6-4fdf-9df1-c9741f0f06ee",
   "metadata": {},
   "outputs": [],
   "source": [
    "mlflow.set_tracking_uri(TRACKING_URL)\n"
   ]
  },
  {
   "cell_type": "code",
   "execution_count": 4,
   "id": "db84dd7e-8d6c-4dcf-9ec8-6304f6fafcca",
   "metadata": {},
   "outputs": [],
   "source": [
    "run = mlflow.start_run(run_id=EXPERIMENT_INSTANCE_ID)"
   ]
  },
  {
   "cell_type": "code",
   "execution_count": 5,
   "id": "c052a075-4379-4bd4-ae66-eeb3f767d98d",
   "metadata": {},
   "outputs": [],
   "source": [
    "params = Box(run.data.params,  box_recast={\n",
    "                'bagging_size': int\n",
    "            })"
   ]
  },
  {
   "cell_type": "code",
   "execution_count": 6,
   "id": "2cefed91-03e5-4dd7-a83b-ea82d9ca4a91",
   "metadata": {},
   "outputs": [],
   "source": [
    "params.train_path = f\"/home/bogul/scalarizing/notebooks/{params.train_path}\""
   ]
  },
  {
   "cell_type": "code",
   "execution_count": 7,
   "id": "5d16b75b-5246-477c-9035-9ff684fa2044",
   "metadata": {},
   "outputs": [
    {
     "data": {
      "text/plain": [
       "<Box: {'bagging_size': 500, 'train_path': '/home/bogul/scalarizing/notebooks/../../datasets/processed/texture-train-2-s2.csv'}>"
      ]
     },
     "execution_count": 7,
     "metadata": {},
     "output_type": "execute_result"
    }
   ],
   "source": [
    "params"
   ]
  },
  {
   "cell_type": "code",
   "execution_count": 8,
   "id": "97b36359-7c10-4dce-a709-9044a473ccd8",
   "metadata": {},
   "outputs": [],
   "source": [
    "def read_dataset(path):\n",
    "    data = pd.read_csv(path)\n",
    "    x = data.drop('TARGET', axis=1).values\n",
    "    y = data['TARGET'].values\n",
    "\n",
    "    return {\n",
    "        \"x\": x,\n",
    "        \"y\": y\n",
    "    }"
   ]
  },
  {
   "cell_type": "code",
   "execution_count": 9,
   "id": "bb57d051-2d52-4674-bab5-c4bcd5b9a53d",
   "metadata": {},
   "outputs": [],
   "source": [
    "train_path = params.train_path\n",
    "test_path = train_path.replace('train','test')"
   ]
  },
  {
   "cell_type": "code",
   "execution_count": 10,
   "id": "4587188a-3031-4f06-8e0c-a5d93d2524f1",
   "metadata": {},
   "outputs": [],
   "source": [
    "dataset = Box({\n",
    "        'train': read_dataset(train_path),\n",
    "        'test': read_dataset(test_path),\n",
    "        'name': train_path.split(\"/\")[-1].replace(\"-train\", '')\n",
    "    })\n"
   ]
  },
  {
   "cell_type": "markdown",
   "id": "e353919f-bf88-4f42-9a9c-1746c1bc287d",
   "metadata": {},
   "source": [
    "# Experiments"
   ]
  },
  {
   "cell_type": "code",
   "execution_count": 11,
   "id": "3042bdea-18fc-4372-8931-261624cd09bf",
   "metadata": {},
   "outputs": [],
   "source": [
    "class predict_wrapper(object):\n",
    "    def __init__(self, predict_func, labels):\n",
    "        self.predict_func = predict_func\n",
    "        self.labels = labels\n",
    "\n",
    "    def __call__(self, *args, **kwargs):\n",
    "        return self.labels[self.predict_func(*args, **kwargs)]\n",
    "\n",
    "def raise_not_implemented():\n",
    "    raise NotImplemented(\"Predict proba is not supported\")\n",
    "def extract_classifiers_from_bagging(bagging):\n",
    "\n",
    "    extracted = []\n",
    "    for classifier in bagging.estimators_:\n",
    "        cloned_classifier = deepcopy(classifier)\n",
    "        cloned_classifier.predict = predict_wrapper(cloned_classifier.predict, bagging.classes_)\n",
    "        cloned_classifier.predict_proba = raise_not_implemented\n",
    "\n",
    "        extracted.append(cloned_classifier)\n",
    "\n",
    "    return extracted"
   ]
  },
  {
   "cell_type": "code",
   "execution_count": 12,
   "id": "a0e01747-7b56-48b6-bf10-f90a370ee049",
   "metadata": {},
   "outputs": [
    {
     "data": {
      "text/html": [
       "<style>#sk-container-id-1 {color: black;background-color: white;}#sk-container-id-1 pre{padding: 0;}#sk-container-id-1 div.sk-toggleable {background-color: white;}#sk-container-id-1 label.sk-toggleable__label {cursor: pointer;display: block;width: 100%;margin-bottom: 0;padding: 0.3em;box-sizing: border-box;text-align: center;}#sk-container-id-1 label.sk-toggleable__label-arrow:before {content: \"▸\";float: left;margin-right: 0.25em;color: #696969;}#sk-container-id-1 label.sk-toggleable__label-arrow:hover:before {color: black;}#sk-container-id-1 div.sk-estimator:hover label.sk-toggleable__label-arrow:before {color: black;}#sk-container-id-1 div.sk-toggleable__content {max-height: 0;max-width: 0;overflow: hidden;text-align: left;background-color: #f0f8ff;}#sk-container-id-1 div.sk-toggleable__content pre {margin: 0.2em;color: black;border-radius: 0.25em;background-color: #f0f8ff;}#sk-container-id-1 input.sk-toggleable__control:checked~div.sk-toggleable__content {max-height: 200px;max-width: 100%;overflow: auto;}#sk-container-id-1 input.sk-toggleable__control:checked~label.sk-toggleable__label-arrow:before {content: \"▾\";}#sk-container-id-1 div.sk-estimator input.sk-toggleable__control:checked~label.sk-toggleable__label {background-color: #d4ebff;}#sk-container-id-1 div.sk-label input.sk-toggleable__control:checked~label.sk-toggleable__label {background-color: #d4ebff;}#sk-container-id-1 input.sk-hidden--visually {border: 0;clip: rect(1px 1px 1px 1px);clip: rect(1px, 1px, 1px, 1px);height: 1px;margin: -1px;overflow: hidden;padding: 0;position: absolute;width: 1px;}#sk-container-id-1 div.sk-estimator {font-family: monospace;background-color: #f0f8ff;border: 1px dotted black;border-radius: 0.25em;box-sizing: border-box;margin-bottom: 0.5em;}#sk-container-id-1 div.sk-estimator:hover {background-color: #d4ebff;}#sk-container-id-1 div.sk-parallel-item::after {content: \"\";width: 100%;border-bottom: 1px solid gray;flex-grow: 1;}#sk-container-id-1 div.sk-label:hover label.sk-toggleable__label {background-color: #d4ebff;}#sk-container-id-1 div.sk-serial::before {content: \"\";position: absolute;border-left: 1px solid gray;box-sizing: border-box;top: 0;bottom: 0;left: 50%;z-index: 0;}#sk-container-id-1 div.sk-serial {display: flex;flex-direction: column;align-items: center;background-color: white;padding-right: 0.2em;padding-left: 0.2em;position: relative;}#sk-container-id-1 div.sk-item {position: relative;z-index: 1;}#sk-container-id-1 div.sk-parallel {display: flex;align-items: stretch;justify-content: center;background-color: white;position: relative;}#sk-container-id-1 div.sk-item::before, #sk-container-id-1 div.sk-parallel-item::before {content: \"\";position: absolute;border-left: 1px solid gray;box-sizing: border-box;top: 0;bottom: 0;left: 50%;z-index: -1;}#sk-container-id-1 div.sk-parallel-item {display: flex;flex-direction: column;z-index: 1;position: relative;background-color: white;}#sk-container-id-1 div.sk-parallel-item:first-child::after {align-self: flex-end;width: 50%;}#sk-container-id-1 div.sk-parallel-item:last-child::after {align-self: flex-start;width: 50%;}#sk-container-id-1 div.sk-parallel-item:only-child::after {width: 0;}#sk-container-id-1 div.sk-dashed-wrapped {border: 1px dashed gray;margin: 0 0.4em 0.5em 0.4em;box-sizing: border-box;padding-bottom: 0.4em;background-color: white;}#sk-container-id-1 div.sk-label label {font-family: monospace;font-weight: bold;display: inline-block;line-height: 1.2em;}#sk-container-id-1 div.sk-label-container {text-align: center;}#sk-container-id-1 div.sk-container {/* jupyter's `normalize.less` sets `[hidden] { display: none; }` but bootstrap.min.css set `[hidden] { display: none !important; }` so we also need the `!important` here to be able to override the default hidden behavior on the sphinx rendered scikit-learn.org. See: https://github.com/scikit-learn/scikit-learn/issues/21755 */display: inline-block !important;position: relative;}#sk-container-id-1 div.sk-text-repr-fallback {display: none;}</style><div id=\"sk-container-id-1\" class=\"sk-top-container\"><div class=\"sk-text-repr-fallback\"><pre>BaggingClassifier(base_estimator=Perceptron(), max_samples=0.3,\n",
       "                  n_estimators=500, random_state=42)</pre><b>In a Jupyter environment, please rerun this cell to show the HTML representation or trust the notebook. <br />On GitHub, the HTML representation is unable to render, please try loading this page with nbviewer.org.</b></div><div class=\"sk-container\" hidden><div class=\"sk-item sk-dashed-wrapped\"><div class=\"sk-label-container\"><div class=\"sk-label sk-toggleable\"><input class=\"sk-toggleable__control sk-hidden--visually\" id=\"sk-estimator-id-1\" type=\"checkbox\" ><label for=\"sk-estimator-id-1\" class=\"sk-toggleable__label sk-toggleable__label-arrow\">BaggingClassifier</label><div class=\"sk-toggleable__content\"><pre>BaggingClassifier(base_estimator=Perceptron(), max_samples=0.3,\n",
       "                  n_estimators=500, random_state=42)</pre></div></div></div><div class=\"sk-parallel\"><div class=\"sk-parallel-item\"><div class=\"sk-item\"><div class=\"sk-label-container\"><div class=\"sk-label sk-toggleable\"><input class=\"sk-toggleable__control sk-hidden--visually\" id=\"sk-estimator-id-2\" type=\"checkbox\" ><label for=\"sk-estimator-id-2\" class=\"sk-toggleable__label sk-toggleable__label-arrow\">base_estimator: Perceptron</label><div class=\"sk-toggleable__content\"><pre>Perceptron()</pre></div></div></div><div class=\"sk-serial\"><div class=\"sk-item\"><div class=\"sk-estimator sk-toggleable\"><input class=\"sk-toggleable__control sk-hidden--visually\" id=\"sk-estimator-id-3\" type=\"checkbox\" ><label for=\"sk-estimator-id-3\" class=\"sk-toggleable__label sk-toggleable__label-arrow\">Perceptron</label><div class=\"sk-toggleable__content\"><pre>Perceptron()</pre></div></div></div></div></div></div></div></div></div></div>"
      ],
      "text/plain": [
       "BaggingClassifier(base_estimator=Perceptron(), max_samples=0.3,\n",
       "                  n_estimators=500, random_state=42)"
      ]
     },
     "execution_count": 12,
     "metadata": {},
     "output_type": "execute_result"
    }
   ],
   "source": [
    "bagging = BaggingClassifier(base_estimator=Perceptron(), n_estimators=params.bagging_size, max_samples=0.3, random_state=42)\n",
    "bagging.fit(dataset.train.x, dataset.train.y)"
   ]
  },
  {
   "cell_type": "code",
   "execution_count": 13,
   "id": "bef5e517-c57f-4ff9-abbc-dc5bee49005e",
   "metadata": {},
   "outputs": [],
   "source": [
    "bagging_test_acc = accuracy_score(bagging.predict(dataset.test.x), dataset.test.y)"
   ]
  },
  {
   "cell_type": "code",
   "execution_count": 14,
   "id": "a7ffc23d-7811-43dc-a150-eb190216d812",
   "metadata": {},
   "outputs": [],
   "source": [
    "from deslib.dcs.mcb import MCB\n",
    "# Example of a dcs techniques\n",
    "from deslib.dcs.ola import OLA\n",
    "# Example of a des techniques\n",
    "from deslib.des.des_p import DESP\n",
    "from deslib.des.knora_e import KNORAE\n",
    "from deslib.des.knora_u import KNORAU\n",
    "from deslib.des.meta_des import METADES"
   ]
  },
  {
   "cell_type": "code",
   "execution_count": 15,
   "id": "6466225a-5e86-4b12-94ec-8f95ea930fd8",
   "metadata": {},
   "outputs": [],
   "source": [
    "knorau = KNORAU(extract_classifiers_from_bagging(bagging), k=5, random_state=42)\n",
    "kne = KNORAE(extract_classifiers_from_bagging(bagging), k=5, random_state=42)\n",
    "desp = DESP(extract_classifiers_from_bagging(bagging), k=5, random_state=42)\n",
    "ola = OLA(extract_classifiers_from_bagging(bagging), k=5, random_state=42)\n",
    "mcb = MCB(extract_classifiers_from_bagging(bagging), k=5, random_state=42)\n",
    "# meta = METADES(extract_classifiers_from_bagging(bagging), k=5, random_state=42)"
   ]
  },
  {
   "cell_type": "code",
   "execution_count": 16,
   "id": "0ccec520-4ce9-44c3-905c-a0984f3cf2b5",
   "metadata": {},
   "outputs": [
    {
     "data": {
      "text/html": [
       "<style>#sk-container-id-2 {color: black;background-color: white;}#sk-container-id-2 pre{padding: 0;}#sk-container-id-2 div.sk-toggleable {background-color: white;}#sk-container-id-2 label.sk-toggleable__label {cursor: pointer;display: block;width: 100%;margin-bottom: 0;padding: 0.3em;box-sizing: border-box;text-align: center;}#sk-container-id-2 label.sk-toggleable__label-arrow:before {content: \"▸\";float: left;margin-right: 0.25em;color: #696969;}#sk-container-id-2 label.sk-toggleable__label-arrow:hover:before {color: black;}#sk-container-id-2 div.sk-estimator:hover label.sk-toggleable__label-arrow:before {color: black;}#sk-container-id-2 div.sk-toggleable__content {max-height: 0;max-width: 0;overflow: hidden;text-align: left;background-color: #f0f8ff;}#sk-container-id-2 div.sk-toggleable__content pre {margin: 0.2em;color: black;border-radius: 0.25em;background-color: #f0f8ff;}#sk-container-id-2 input.sk-toggleable__control:checked~div.sk-toggleable__content {max-height: 200px;max-width: 100%;overflow: auto;}#sk-container-id-2 input.sk-toggleable__control:checked~label.sk-toggleable__label-arrow:before {content: \"▾\";}#sk-container-id-2 div.sk-estimator input.sk-toggleable__control:checked~label.sk-toggleable__label {background-color: #d4ebff;}#sk-container-id-2 div.sk-label input.sk-toggleable__control:checked~label.sk-toggleable__label {background-color: #d4ebff;}#sk-container-id-2 input.sk-hidden--visually {border: 0;clip: rect(1px 1px 1px 1px);clip: rect(1px, 1px, 1px, 1px);height: 1px;margin: -1px;overflow: hidden;padding: 0;position: absolute;width: 1px;}#sk-container-id-2 div.sk-estimator {font-family: monospace;background-color: #f0f8ff;border: 1px dotted black;border-radius: 0.25em;box-sizing: border-box;margin-bottom: 0.5em;}#sk-container-id-2 div.sk-estimator:hover {background-color: #d4ebff;}#sk-container-id-2 div.sk-parallel-item::after {content: \"\";width: 100%;border-bottom: 1px solid gray;flex-grow: 1;}#sk-container-id-2 div.sk-label:hover label.sk-toggleable__label {background-color: #d4ebff;}#sk-container-id-2 div.sk-serial::before {content: \"\";position: absolute;border-left: 1px solid gray;box-sizing: border-box;top: 0;bottom: 0;left: 50%;z-index: 0;}#sk-container-id-2 div.sk-serial {display: flex;flex-direction: column;align-items: center;background-color: white;padding-right: 0.2em;padding-left: 0.2em;position: relative;}#sk-container-id-2 div.sk-item {position: relative;z-index: 1;}#sk-container-id-2 div.sk-parallel {display: flex;align-items: stretch;justify-content: center;background-color: white;position: relative;}#sk-container-id-2 div.sk-item::before, #sk-container-id-2 div.sk-parallel-item::before {content: \"\";position: absolute;border-left: 1px solid gray;box-sizing: border-box;top: 0;bottom: 0;left: 50%;z-index: -1;}#sk-container-id-2 div.sk-parallel-item {display: flex;flex-direction: column;z-index: 1;position: relative;background-color: white;}#sk-container-id-2 div.sk-parallel-item:first-child::after {align-self: flex-end;width: 50%;}#sk-container-id-2 div.sk-parallel-item:last-child::after {align-self: flex-start;width: 50%;}#sk-container-id-2 div.sk-parallel-item:only-child::after {width: 0;}#sk-container-id-2 div.sk-dashed-wrapped {border: 1px dashed gray;margin: 0 0.4em 0.5em 0.4em;box-sizing: border-box;padding-bottom: 0.4em;background-color: white;}#sk-container-id-2 div.sk-label label {font-family: monospace;font-weight: bold;display: inline-block;line-height: 1.2em;}#sk-container-id-2 div.sk-label-container {text-align: center;}#sk-container-id-2 div.sk-container {/* jupyter's `normalize.less` sets `[hidden] { display: none; }` but bootstrap.min.css set `[hidden] { display: none !important; }` so we also need the `!important` here to be able to override the default hidden behavior on the sphinx rendered scikit-learn.org. See: https://github.com/scikit-learn/scikit-learn/issues/21755 */display: inline-block !important;position: relative;}#sk-container-id-2 div.sk-text-repr-fallback {display: none;}</style><div id=\"sk-container-id-2\" class=\"sk-top-container\"><div class=\"sk-text-repr-fallback\"><pre>MCB(k=5,\n",
       "    pool_classifiers=[Perceptron(random_state=1952926171),\n",
       "                      Perceptron(random_state=1761383086),\n",
       "                      Perceptron(random_state=1449071958),\n",
       "                      Perceptron(random_state=1910541088),\n",
       "                      Perceptron(random_state=1341730541),\n",
       "                      Perceptron(random_state=1286572245),\n",
       "                      Perceptron(random_state=1005142668),\n",
       "                      Perceptron(random_state=502852014),\n",
       "                      Perceptron(random_state=186414760),\n",
       "                      Pe...\n",
       "                      Perceptron(random_state=420198453),\n",
       "                      Perceptron(random_state=1930947788),\n",
       "                      Perceptron(random_state=1419989711),\n",
       "                      Perceptron(random_state=1242586904),\n",
       "                      Perceptron(random_state=1836411051),\n",
       "                      Perceptron(random_state=1419187828),\n",
       "                      Perceptron(random_state=1418767096),\n",
       "                      Perceptron(random_state=694812580),\n",
       "                      Perceptron(random_state=1521681307),\n",
       "                      Perceptron(random_state=649915709), ...],\n",
       "    random_state=42)</pre><b>In a Jupyter environment, please rerun this cell to show the HTML representation or trust the notebook. <br />On GitHub, the HTML representation is unable to render, please try loading this page with nbviewer.org.</b></div><div class=\"sk-container\" hidden><div class=\"sk-item\"><div class=\"sk-estimator sk-toggleable\"><input class=\"sk-toggleable__control sk-hidden--visually\" id=\"sk-estimator-id-4\" type=\"checkbox\" checked><label for=\"sk-estimator-id-4\" class=\"sk-toggleable__label sk-toggleable__label-arrow\">MCB</label><div class=\"sk-toggleable__content\"><pre>MCB(k=5,\n",
       "    pool_classifiers=[Perceptron(random_state=1952926171),\n",
       "                      Perceptron(random_state=1761383086),\n",
       "                      Perceptron(random_state=1449071958),\n",
       "                      Perceptron(random_state=1910541088),\n",
       "                      Perceptron(random_state=1341730541),\n",
       "                      Perceptron(random_state=1286572245),\n",
       "                      Perceptron(random_state=1005142668),\n",
       "                      Perceptron(random_state=502852014),\n",
       "                      Perceptron(random_state=186414760),\n",
       "                      Pe...\n",
       "                      Perceptron(random_state=420198453),\n",
       "                      Perceptron(random_state=1930947788),\n",
       "                      Perceptron(random_state=1419989711),\n",
       "                      Perceptron(random_state=1242586904),\n",
       "                      Perceptron(random_state=1836411051),\n",
       "                      Perceptron(random_state=1419187828),\n",
       "                      Perceptron(random_state=1418767096),\n",
       "                      Perceptron(random_state=694812580),\n",
       "                      Perceptron(random_state=1521681307),\n",
       "                      Perceptron(random_state=649915709), ...],\n",
       "    random_state=42)</pre></div></div></div></div></div>"
      ],
      "text/plain": [
       "MCB(k=5,\n",
       "    pool_classifiers=[Perceptron(random_state=1952926171),\n",
       "                      Perceptron(random_state=1761383086),\n",
       "                      Perceptron(random_state=1449071958),\n",
       "                      Perceptron(random_state=1910541088),\n",
       "                      Perceptron(random_state=1341730541),\n",
       "                      Perceptron(random_state=1286572245),\n",
       "                      Perceptron(random_state=1005142668),\n",
       "                      Perceptron(random_state=502852014),\n",
       "                      Perceptron(random_state=186414760),\n",
       "                      Pe...\n",
       "                      Perceptron(random_state=420198453),\n",
       "                      Perceptron(random_state=1930947788),\n",
       "                      Perceptron(random_state=1419989711),\n",
       "                      Perceptron(random_state=1242586904),\n",
       "                      Perceptron(random_state=1836411051),\n",
       "                      Perceptron(random_state=1419187828),\n",
       "                      Perceptron(random_state=1418767096),\n",
       "                      Perceptron(random_state=694812580),\n",
       "                      Perceptron(random_state=1521681307),\n",
       "                      Perceptron(random_state=649915709), ...],\n",
       "    random_state=42)"
      ]
     },
     "execution_count": 16,
     "metadata": {},
     "output_type": "execute_result"
    }
   ],
   "source": [
    "knorau.fit(dataset.train.x, dataset.train.y)\n",
    "kne.fit(dataset.train.x, dataset.train.y)\n",
    "desp.fit(dataset.train.x, dataset.train.y)\n",
    "ola.fit(dataset.train.x, dataset.train.y)\n",
    "mcb.fit(dataset.train.x, dataset.train.y)\n",
    "# meta.fit(dataset.train.x, dataset.train.y)\n"
   ]
  },
  {
   "cell_type": "code",
   "execution_count": 17,
   "id": "2d451b01-878a-4b84-9f07-647563aac6fd",
   "metadata": {},
   "outputs": [],
   "source": [
    "knorau_acc = accuracy_score(knorau.predict(dataset.test.x), dataset.test.y)\n",
    "kne_acc = accuracy_score(kne.predict(dataset.test.x), dataset.test.y)\n",
    "desp_acc = accuracy_score(desp.predict(dataset.test.x), dataset.test.y)\n",
    "ola_acc = accuracy_score(ola.predict(dataset.test.x), dataset.test.y)\n",
    "mcb_acc = accuracy_score(mcb.predict(dataset.test.x), dataset.test.y)"
   ]
  },
  {
   "cell_type": "code",
   "execution_count": 18,
   "id": "fcb4d8a7-58df-4285-bc09-c7d354a8e490",
   "metadata": {},
   "outputs": [],
   "source": [
    "mlflow.log_metrics({\n",
    "    'knorau_test_acc': knorau_acc,\n",
    "    'kne_test_acc': kne_acc,\n",
    "    'desp_test_acc': desp_acc,\n",
    "    'ola_test_acc': ola_acc,\n",
    "    'mcb_test_acc': mcb_acc,\n",
    "    'bagging_test_acc': bagging_test_acc,\n",
    "    \n",
    "})"
   ]
  },
  {
   "cell_type": "code",
   "execution_count": 19,
   "id": "793655b1-5fa4-4466-a0a0-9b3025238d49",
   "metadata": {},
   "outputs": [],
   "source": [
    "mlflow.end_run()"
   ]
  }
 ],
 "metadata": {
  "kernelspec": {
   "display_name": "Python 3 (ipykernel)",
   "language": "python",
   "name": "python3"
  },
  "language_info": {
   "codemirror_mode": {
    "name": "ipython",
    "version": 3
   },
   "file_extension": ".py",
   "mimetype": "text/x-python",
   "name": "python",
   "nbconvert_exporter": "python",
   "pygments_lexer": "ipython3",
   "version": "3.10.6"
  }
 },
 "nbformat": 4,
 "nbformat_minor": 5
}
